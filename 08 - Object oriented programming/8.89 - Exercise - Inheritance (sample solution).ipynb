{
 "cells": [
  {
   "cell_type": "markdown",
   "metadata": {},
   "source": [
    "## Task: Inheritance\n",
    "\n",
    "##### Task 1:\n",
    "\n",
    "Complete the class \"FileReader\" so that when calling the lines() method the file is accessed line by line. The lines() method should then return a list of the lines in the file.\n",
    "\n",
    "##### Task 2:\n",
    "\n",
    "Create the class \"CsvReader\", so that the \"FileReader\" is extended to read a .csv-file instead. It should return a multidimensional list. \n",
    "\n",
    "**Important:** Leave the reading of the file to the \"FileReader\", and extend the lines() - method in the Csv-Reader by the functionality, which is needed, so that the multidimensional list is returned!"
   ]
  },
  {
   "cell_type": "code",
   "execution_count": 1,
   "metadata": {},
   "outputs": [],
   "source": [
    "class FileReader():\n",
    "    def __init__(self, filename):\n",
    "        self.filename = filename\n",
    "    \n",
    "    def lines(self):\n",
    "        lines = []\n",
    "        with open(self.filename, \"r\") as file:\n",
    "            for line in file:\n",
    "                lines.append(line.strip())\n",
    "        return lines\n",
    "\n",
    "class CsvReader(FileReader):\n",
    "    def __init__(self, filename):\n",
    "        super().__init__(filename)\n",
    "    \n",
    "    def lines(self):\n",
    "        lines = super().lines()\n",
    "        \n",
    "        return [line.split(\",\") for line in lines]\n",
    "        #lines_splitted = []\n",
    "        #for line in lines:\n",
    "        #    lines_splitted.append(line.split(\",\"))\n",
    "        #return lines_splitted"
   ]
  },
  {
   "cell_type": "code",
   "execution_count": 4,
   "metadata": {},
   "outputs": [
    {
     "name": "stdout",
     "output_type": "stream",
     "text": [
      "['surname,first_name', 'Doe,John', 'Miller,Monica']\n"
     ]
    }
   ],
   "source": [
    "f = FileReader(\"./file.csv\")\n",
    "print(f.lines())\n",
    "\n",
    "# Expected output:\n",
    "# [surname, first_name, Doe, John, Miller, Monica]"
   ]
  },
  {
   "cell_type": "code",
   "execution_count": 6,
   "metadata": {},
   "outputs": [
    {
     "name": "stdout",
     "output_type": "stream",
     "text": [
      "[['surname', 'first_name'], ['Doe', 'John'], ['Miller', 'Monica']]\n"
     ]
    }
   ],
   "source": [
    "f = CsvReader(\"./file.csv\")\n",
    "print(f.lines())\n",
    "\n",
    "# Expected output:\n",
    "# [[\"surname\", \"first_name\"], [\"Doe\", \"John\"], [\"Miller\", \"Monica\"]]"
   ]
  },
  {
   "cell_type": "code",
   "execution_count": null,
   "metadata": {
    "collapsed": true
   },
   "outputs": [],
   "source": []
  }
 ],
 "metadata": {
  "kernelspec": {
   "display_name": "Python 3",
   "language": "python",
   "name": "python3"
  },
  "language_info": {
   "codemirror_mode": {
    "name": "ipython",
    "version": 3
   },
   "file_extension": ".py",
   "mimetype": "text/x-python",
   "name": "python",
   "nbconvert_exporter": "python",
   "pygments_lexer": "ipython3",
   "version": "3.6.5"
  }
 },
 "nbformat": 4,
 "nbformat_minor": 2
}
