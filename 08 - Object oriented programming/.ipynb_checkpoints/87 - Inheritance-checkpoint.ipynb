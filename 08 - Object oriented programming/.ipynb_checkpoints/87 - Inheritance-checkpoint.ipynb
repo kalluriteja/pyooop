{
 "cells": [
  {
   "cell_type": "markdown",
   "metadata": {},
   "source": [
    "# Inheritance\n",
    "\n",
    "Inheritance is a fundamental concept of object orientation with which you can divide and better model data."
   ]
  },
  {
   "cell_type": "markdown",
   "metadata": {},
   "source": [
    "We already know the class student:"
   ]
  },
  {
   "cell_type": "code",
   "execution_count": 1,
   "metadata": {},
   "outputs": [],
   "source": [
    "class Student():\n",
    "    def __init__(self, firstname, surname):\n",
    "        self.firstname = firstname\n",
    "        self.surname = surname\n",
    "\n",
    "    def name(self):\n",
    "        return self.firstname + \" \" + self.surname"
   ]
  },
  {
   "cell_type": "code",
   "execution_count": 2,
   "metadata": {},
   "outputs": [
    {
     "name": "stdout",
     "output_type": "stream",
     "text": [
      "John Doe\n"
     ]
    }
   ],
   "source": [
    "student = Student(\"John\", \"Doe\")\n",
    "print(student.name())"
   ]
  },
  {
   "cell_type": "markdown",
   "metadata": {},
   "source": [
    "We want to define another class that is similar to an existing class:"
   ]
  },
  {
   "cell_type": "code",
   "execution_count": 4,
   "metadata": {},
   "outputs": [],
   "source": [
    "class WorkingStudent():\n",
    "    \n",
    "    def __init__(self, firstname, surname, company):\n",
    "        self.firstname = firstname\n",
    "        self.surname = surname\n",
    "        self.company = company\n",
    "    \n",
    "    def name(self):\n",
    "        return self.firstname + \" \" + self.surname\n",
    "        "
   ]
  },
  {
   "cell_type": "code",
   "execution_count": 5,
   "metadata": {},
   "outputs": [
    {
     "name": "stdout",
     "output_type": "stream",
     "text": [
      "John Doe\n"
     ]
    }
   ],
   "source": [
    "student = WorkingStudent(\"John\", \"Doe\", \"Evilcorp\")\n",
    "print(student.name())"
   ]
  },
  {
   "cell_type": "markdown",
   "metadata": {},
   "source": [
    "### Define a class with inheritance\n",
    "\n",
    "We can save ourselves the trouble of defining the same instance variables and methods again - thanks to inheritance. To do this, we refer to another class definition:"
   ]
  },
  {
   "cell_type": "code",
   "execution_count": 6,
   "metadata": {},
   "outputs": [],
   "source": [
    "# We pass the class from which inherit as a parameter (parent class)\n",
    "class WorkingStudent(Student):\n",
    "    \n",
    "    def __init__(self, firstname, surname, company):\n",
    "        # The old instance variable definitions become obsolete below\n",
    "        # self.firstname = firstname\n",
    "        # self.surname = surname\n",
    "        \n",
    "        # with super() we can call methods from the parent class\n",
    "        super().__init__(firstname, surname)\n",
    "        self.company = company\n",
    "    \n",
    "    def name(self):\n",
    "        # again we refer with super() to the method of the parent class, which we overwrite for the class WorkingStudent\n",
    "        return super().name() + \" (\" + self.company +\")\""
   ]
  },
  {
   "cell_type": "code",
   "execution_count": 7,
   "metadata": {},
   "outputs": [
    {
     "name": "stdout",
     "output_type": "stream",
     "text": [
      "John Doe (Evilcorp)\n"
     ]
    }
   ],
   "source": [
    "student = WorkingStudent(\"John\", \"Doe\", \"Evilcorp\")\n",
    "print(student.name())"
   ]
  },
  {
   "cell_type": "code",
   "execution_count": 9,
   "metadata": {},
   "outputs": [
    {
     "name": "stdout",
     "output_type": "stream",
     "text": [
      "Max Worker (ABC)\n",
      "Monica Smartass\n",
      "Eric Smartass\n",
      "Paula Worker (XYZ)\n"
     ]
    }
   ],
   "source": [
    "students = [\n",
    "    WorkingStudent(\"Max\", \"Worker\", \"ABC\"),\n",
    "    Student(\"Monica\", \"Smartass\"),\n",
    "    Student(\"Eric\", \"Smartass\"),\n",
    "    WorkingStudent(\"Paula\", \"Worker\", \"XYZ\")\n",
    "]\n",
    "\n",
    "for student in students:\n",
    "    print(student.name())"
   ]
  },
  {
   "cell_type": "markdown",
   "metadata": {},
   "source": [
    "Here we see that the different name() methods return different outputs, even if we access them with the same name."
   ]
  }
 ],
 "metadata": {
  "kernelspec": {
   "display_name": "Python 3",
   "language": "python",
   "name": "python3"
  },
  "language_info": {
   "codemirror_mode": {
    "name": "ipython",
    "version": 3
   },
   "file_extension": ".py",
   "mimetype": "text/x-python",
   "name": "python",
   "nbconvert_exporter": "python",
   "pygments_lexer": "ipython3",
   "version": "3.6.5"
  }
 },
 "nbformat": 4,
 "nbformat_minor": 2
}
