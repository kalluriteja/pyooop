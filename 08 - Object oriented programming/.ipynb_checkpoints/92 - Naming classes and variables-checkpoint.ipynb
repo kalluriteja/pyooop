{
 "cells": [
  {
   "cell_type": "markdown",
   "metadata": {},
   "source": [
    "## Styleguide - Naming classes and variables\n",
    "\n",
    "Basically it doesn't matter how we name a class / variable in Python. Our program will work either way.\n",
    "\n",
    "**But:** For Python there are some style guides how we can write \"nice\" code. In this lesson I would like to go through the most important points of ...\n",
    "(https://www.python.org/dev/peps/pep-0008/).\n",
    "\n",
    "How can (should) we name variables / classes / functions, especially if the names should consist of several words?\n",
    "\n",
    "In Python, this is done by convention:\n",
    "\n",
    "- PascalCase (`SeveralWords`)\n",
    "- sneak_case (`several_words`)\n",
    "\n",
    "Unlike other programming languages, this is not used:\n",
    "\n",
    "- camelCase (`severalWords`)"
   ]
  },
  {
   "cell_type": "code",
   "execution_count": 4,
   "metadata": {},
   "outputs": [
    {
     "name": "stdout",
     "output_type": "stream",
     "text": [
      "TEST\n",
      "<__main__.ThisIsTooLongSeriouslyTooooLong object at 0x000001288BCD1470>\n"
     ]
    }
   ],
   "source": [
    "# Class names in PascalCase\n",
    "# But this example is too long ;-)\n",
    "class ThisIsTooLongSeriouslyTooooLong():\n",
    "    def __init__(self):\n",
    "        print(\"TEST\")\n",
    "    \n",
    "    # Function name in sneak_case\n",
    "    def i_am_a_function(self):\n",
    "        print(\"asdf\")\n",
    "\n",
    "# Variable names also in sneak_case; but at most three words ;-)\n",
    "several_words = ThisIsTooLongSeriouslyTooooLong()\n",
    "\n",
    "print(several_words)"
   ]
  }
 ],
 "metadata": {
  "kernelspec": {
   "display_name": "Python 3",
   "language": "python",
   "name": "python3"
  },
  "language_info": {
   "codemirror_mode": {
    "name": "ipython",
    "version": 3
   },
   "file_extension": ".py",
   "mimetype": "text/x-python",
   "name": "python",
   "nbconvert_exporter": "python",
   "pygments_lexer": "ipython3",
   "version": "3.6.5"
  }
 },
 "nbformat": 4,
 "nbformat_minor": 2
}
