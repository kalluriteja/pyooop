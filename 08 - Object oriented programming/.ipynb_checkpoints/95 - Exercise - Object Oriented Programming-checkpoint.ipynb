{
 "cells": [
  {
   "cell_type": "markdown",
   "metadata": {},
   "source": [
    "# Exercise: Object-oriented programming\n",
    "\n",
    "Attached you will find some tasks for programming. Have fun with it! :)\n",
    "\n",
    "When you have finished this exercise sheet, compare it with the sample solution. \n",
    "\n",
    "The video sample solution (in the next lesson) is explained in details. If you have solved everything correctly, it is perfectly okay if you skip this lesson then."
   ]
  },
  {
   "cell_type": "markdown",
   "metadata": {},
   "source": [
    "### Task 1: Model a cube"
   ]
  },
  {
   "cell_type": "markdown",
   "metadata": {},
   "source": [
    "Create a class _Cube_ to model a cube! The cube class should have the length of the cubes side as a property. In addition, the class should have two methods: the method `volume()` calculates the volume and outputs it, the method `surface()` calculates the surface and outputs it."
   ]
  },
  {
   "cell_type": "code",
   "execution_count": 1,
   "metadata": {},
   "outputs": [
    {
     "ename": "IndentationError",
     "evalue": "expected an indented block (<ipython-input-1-4a8e651822c4>, line 6)",
     "output_type": "error",
     "traceback": [
      "\u001b[1;36m  File \u001b[1;32m\"<ipython-input-1-4a8e651822c4>\"\u001b[1;36m, line \u001b[1;32m6\u001b[0m\n\u001b[1;33m    a = Cube(3)\u001b[0m\n\u001b[1;37m    ^\u001b[0m\n\u001b[1;31mIndentationError\u001b[0m\u001b[1;31m:\u001b[0m expected an indented block\n"
     ]
    }
   ],
   "source": [
    "class Cube():\n",
    "    # Your code here\n",
    "        \n",
    "\n",
    "# instance of your Cube-class \n",
    "a = Cube(3)\n",
    "\n",
    "# test of the class\n",
    "a.surface()\n",
    "a.volume()"
   ]
  },
  {
   "cell_type": "markdown",
   "metadata": {},
   "source": [
    "Expected Output:\n",
    "\n",
    "```\n",
    "54\n",
    "27\n",
    "```"
   ]
  },
  {
   "cell_type": "markdown",
   "metadata": {},
   "source": [
    "### Task 2: Model a sphere"
   ]
  },
  {
   "cell_type": "markdown",
   "metadata": {},
   "source": [
    "The sphere class should be given the radius as a property. It should also have two methods - similar to the cube: `surface()` to calculate the surface content, `volume()` to calculate the volume.\n",
    "\n",
    "In order to perform these calculations, you need the circle number Pi. This is available to you after an `import math` under `math.pi` (what the `import` command exactly does, we will look at later in the course).\n",
    "\n",
    "You can look up the formulas for the surface content/volume of a sphere on the Internet."
   ]
  },
  {
   "cell_type": "code",
   "execution_count": 2,
   "metadata": {},
   "outputs": [
    {
     "name": "stdout",
     "output_type": "stream",
     "text": [
      "3.141592653589793\n"
     ]
    }
   ],
   "source": [
    "import math\n",
    "print(math.pi)"
   ]
  },
  {
   "cell_type": "code",
   "execution_count": 3,
   "metadata": {},
   "outputs": [
    {
     "ename": "IndentationError",
     "evalue": "expected an indented block (<ipython-input-3-0d25d4106b98>, line 7)",
     "output_type": "error",
     "traceback": [
      "\u001b[1;36m  File \u001b[1;32m\"<ipython-input-3-0d25d4106b98>\"\u001b[1;36m, line \u001b[1;32m7\u001b[0m\n\u001b[1;33m    b = Ball(4)\u001b[0m\n\u001b[1;37m    ^\u001b[0m\n\u001b[1;31mIndentationError\u001b[0m\u001b[1;31m:\u001b[0m expected an indented block\n"
     ]
    }
   ],
   "source": [
    "import math\n",
    "\n",
    "class Ball():\n",
    "    # Your code here...\n",
    "        \n",
    "\n",
    "b = Ball(4)\n",
    "b.surface()\n",
    "b.volume()"
   ]
  },
  {
   "cell_type": "markdown",
   "metadata": {},
   "source": [
    "Approximate output (does not have to be exactly the same):\n",
    "\n",
    "```\n",
    "201.06192982974676\n",
    "268.082573106329\n",
    "```"
   ]
  },
  {
   "cell_type": "markdown",
   "metadata": {},
   "source": [
    "### Task 3: Model an account\n",
    "\n",
    "#### a.) \n",
    "\n",
    "Create the class _Account_ with the property _credits_! This property is initialized with a starting capital. The method `display()` should display the current account balance. "
   ]
  },
  {
   "cell_type": "code",
   "execution_count": 4,
   "metadata": {},
   "outputs": [
    {
     "ename": "IndentationError",
     "evalue": "expected an indented block (<ipython-input-4-77568cc33bca>, line 4)",
     "output_type": "error",
     "traceback": [
      "\u001b[1;36m  File \u001b[1;32m\"<ipython-input-4-77568cc33bca>\"\u001b[1;36m, line \u001b[1;32m4\u001b[0m\n\u001b[1;33m    Kunde111 = Account(500)\u001b[0m\n\u001b[1;37m           ^\u001b[0m\n\u001b[1;31mIndentationError\u001b[0m\u001b[1;31m:\u001b[0m expected an indented block\n"
     ]
    }
   ],
   "source": [
    "class Account():\n",
    "    # your code here...\n",
    "        \n",
    "Kunde111 = Account(500)\n",
    "Kunde111.display()"
   ]
  },
  {
   "cell_type": "markdown",
   "metadata": {},
   "source": [
    "Expected output:\n",
    "\n",
    "```\n",
    "500\n",
    "```"
   ]
  },
  {
   "cell_type": "markdown",
   "metadata": {},
   "source": [
    "**b.)**\n",
    "\n",
    "Add two methods (`pay_in()` to deposit, `withdraw()` to withdraw) to the _Account_ class so that you can deposit and withdraw funds, and the account balance will be adjusted accordingly. \n",
    "\n",
    "I just want you to be able to withdraw money while there's money in your account. You can't go into debts. In this case, an error message should be issued stating the maximum amount of money that can be accessed."
   ]
  },
  {
   "cell_type": "code",
   "execution_count": 5,
   "metadata": {},
   "outputs": [
    {
     "ename": "IndentationError",
     "evalue": "expected an indented block (<ipython-input-5-ce57329e3f46>, line 7)",
     "output_type": "error",
     "traceback": [
      "\u001b[1;36m  File \u001b[1;32m\"<ipython-input-5-ce57329e3f46>\"\u001b[1;36m, line \u001b[1;32m7\u001b[0m\n\u001b[1;33m    Kunde111 = Account(500)\u001b[0m\n\u001b[1;37m           ^\u001b[0m\n\u001b[1;31mIndentationError\u001b[0m\u001b[1;31m:\u001b[0m expected an indented block\n"
     ]
    }
   ],
   "source": [
    "class Account():\n",
    "    \n",
    "    # Your code here... \n",
    "    # Feel free to reuse your code from a)\n",
    "    \n",
    "        \n",
    "Kunde111 = Account(500)\n",
    "Kunde111.display()\n",
    "Kunde111.pay_in(40)\n",
    "Kunde111.display()\n",
    "Kunde111.withdraw(25)\n",
    "Kunde111.display()\n",
    "Kunde111.withdraw(600)"
   ]
  },
  {
   "cell_type": "markdown",
   "metadata": {},
   "source": [
    "Expected output:\n",
    "\n",
    "```\n",
    "500\n",
    "540\n",
    "515\n",
    "You can only withdraw 515$!\n",
    "```"
   ]
  },
  {
   "cell_type": "markdown",
   "metadata": {},
   "source": [
    "**c.)**\n",
    "\n",
    "The account is still unprotected - we need a PIN! In the class, add the property _pin_! As with the initial capital, the account should also be initialized with a PIN.\n",
    "\n",
    "From now on you have to enter not only the amount but also the PIN when you withdraw money: Only if the PIN matches the PIN of the account, money can be withdrawn, otherwise an error message will be displayed!"
   ]
  },
  {
   "cell_type": "code",
   "execution_count": 7,
   "metadata": {},
   "outputs": [
    {
     "ename": "IndentationError",
     "evalue": "expected an indented block (<ipython-input-7-010dda30571b>, line 5)",
     "output_type": "error",
     "traceback": [
      "\u001b[1;36m  File \u001b[1;32m\"<ipython-input-7-010dda30571b>\"\u001b[1;36m, line \u001b[1;32m5\u001b[0m\n\u001b[1;33m    Kunde111 = Account(500, \"1234\")\u001b[0m\n\u001b[1;37m           ^\u001b[0m\n\u001b[1;31mIndentationError\u001b[0m\u001b[1;31m:\u001b[0m expected an indented block\n"
     ]
    }
   ],
   "source": [
    "class Account():\n",
    "    # Your code here\n",
    "    # Feel free to reuse code from a) and b)\n",
    "        \n",
    "Kunde111 = Account(500, \"1234\")\n",
    "Kunde111.display()\n",
    "Kunde111.pay_in(40)\n",
    "Kunde111.display()\n",
    "Kunde111.withdraw(25, \"1234\")\n",
    "Kunde111.display()\n",
    "Kunde111.withdraw(600, \"12345\")"
   ]
  },
  {
   "cell_type": "markdown",
   "metadata": {},
   "source": [
    "Expected output:\n",
    "\n",
    "```\n",
    "500\n",
    "540\n",
    "515\n",
    "Wrong PIN! Account blocked! You're under arrest! Put your hands up!\n",
    "```"
   ]
  },
  {
   "cell_type": "markdown",
   "metadata": {},
   "source": [
    "### Task 4: Model a train\n",
    "\n",
    "\n",
    "**a.)**\n",
    "\n",
    "Now you will build train objects! Create the class _Train_, which is initialized with the properties _route_ and _position_! _route_ is a list of the train's stations. _position_ stands for the index of the station from the list from which the train is currently or last departed (where exactly the train is on the line between two stations is of no interest to us here). With the method `show_station()` the name of this station should be outputted."
   ]
  },
  {
   "cell_type": "code",
   "execution_count": 8,
   "metadata": {},
   "outputs": [
    {
     "ename": "IndentationError",
     "evalue": "expected an indented block (<ipython-input-8-ca51a0c25125>, line 4)",
     "output_type": "error",
     "traceback": [
      "\u001b[1;36m  File \u001b[1;32m\"<ipython-input-8-ca51a0c25125>\"\u001b[1;36m, line \u001b[1;32m4\u001b[0m\n\u001b[1;33m    orientexpress = Train([\"Paris\", \"Budapest\", \"Bukarest\", \"Istanbul\"], 0)\u001b[0m\n\u001b[1;37m                ^\u001b[0m\n\u001b[1;31mIndentationError\u001b[0m\u001b[1;31m:\u001b[0m expected an indented block\n"
     ]
    }
   ],
   "source": [
    "class Train():\n",
    "    # Your code here\n",
    "    \n",
    "orientexpress = Train([\"Paris\", \"Budapest\", \"Bukarest\", \"Istanbul\"], 0)\n",
    "orientexpress.show_station()"
   ]
  },
  {
   "cell_type": "markdown",
   "metadata": {},
   "source": [
    "Expected output:\n",
    "\n",
    "```\n",
    "Paris\n",
    "```\n"
   ]
  },
  {
   "cell_type": "markdown",
   "metadata": {},
   "source": [
    "**b.)**\n",
    "\n",
    "So far, a train of the class _Train_ is still stuck in its starting station. Now add two methods `move()` and `move_back()` to move a train on its route to the next or previous station. The train must not leave its route!\n"
   ]
  },
  {
   "cell_type": "code",
   "execution_count": 9,
   "metadata": {},
   "outputs": [
    {
     "ename": "IndentationError",
     "evalue": "expected an indented block (<ipython-input-9-ed2b4f271f2d>, line 6)",
     "output_type": "error",
     "traceback": [
      "\u001b[1;36m  File \u001b[1;32m\"<ipython-input-9-ed2b4f271f2d>\"\u001b[1;36m, line \u001b[1;32m6\u001b[0m\n\u001b[1;33m    orientexpress = Train([\"Paris\", \"Budapest\", \"Bukarest\", \"Istanbul\"], 0)\u001b[0m\n\u001b[1;37m                ^\u001b[0m\n\u001b[1;31mIndentationError\u001b[0m\u001b[1;31m:\u001b[0m expected an indented block\n"
     ]
    }
   ],
   "source": [
    "class Train():\n",
    "    \n",
    "    # Your code here\n",
    "    # Reuse code from a)\n",
    "            \n",
    "orientexpress = Train([\"Paris\", \"Budapest\", \"Bukarest\", \"Istanbul\"], 0)\n",
    "orientexpress.show_station()\n",
    "orientexpress.move()\n",
    "orientexpress.show_station()\n",
    "orientexpress.move()\n",
    "orientexpress.show_station()\n",
    "orientexpress.move()\n",
    "orientexpress.show_station()\n",
    "orientexpress.move()\n",
    "orientexpress.move_back()\n",
    "orientexpress.show_station()"
   ]
  },
  {
   "cell_type": "code",
   "execution_count": null,
   "metadata": {},
   "outputs": [],
   "source": []
  },
  {
   "cell_type": "markdown",
   "metadata": {},
   "source": [
    "Expected output:\n",
    "\n",
    "```\n",
    "Paris\n",
    "Budapest\n",
    "Bukarest\n",
    "Istanbul\n",
    "Final Station! Leave! Now!\n",
    "Bukarest\n",
    "```"
   ]
  },
  {
   "cell_type": "markdown",
   "metadata": {},
   "source": [
    "**c.)**\n",
    "\n",
    "It should be possible to edit the route later by using a `bypass_station()`, which makes the train leave it's route. To be on the safe side, the train should then be moved to the start of the route, unless it is already there.\n",
    "\n",
    "Tip:*** Remember the methods for lists! :-)"
   ]
  },
  {
   "cell_type": "code",
   "execution_count": 10,
   "metadata": {},
   "outputs": [
    {
     "ename": "IndentationError",
     "evalue": "expected an indented block (<ipython-input-10-b4e79e8286a2>, line 7)",
     "output_type": "error",
     "traceback": [
      "\u001b[1;36m  File \u001b[1;32m\"<ipython-input-10-b4e79e8286a2>\"\u001b[1;36m, line \u001b[1;32m7\u001b[0m\n\u001b[1;33m    orientexpress = Train([\"Paris\", \"Budapest\", \"Bukarest\", \"Istanbul\"], 0)\u001b[0m\n\u001b[1;37m                ^\u001b[0m\n\u001b[1;31mIndentationError\u001b[0m\u001b[1;31m:\u001b[0m expected an indented block\n"
     ]
    }
   ],
   "source": [
    "class Train():\n",
    "    \n",
    "    # Your code here\n",
    "    # Reuse code from b)\n",
    "    \n",
    "            \n",
    "orientexpress = Train([\"Paris\", \"Budapest\", \"Bukarest\", \"Istanbul\"], 0)\n",
    "orientexpress.bypass_station(\"Budapest\")\n",
    "orientexpress.move()\n",
    "orientexpress.show_station()"
   ]
  },
  {
   "cell_type": "markdown",
   "metadata": {},
   "source": [
    "Expected output:\n",
    "\n",
    "```\n",
    "Bukarest\n",
    "```"
   ]
  },
  {
   "cell_type": "markdown",
   "metadata": {},
   "source": [
    "#### Well done :-) "
   ]
  }
 ],
 "metadata": {
  "kernelspec": {
   "display_name": "Python 3",
   "language": "python",
   "name": "python3"
  },
  "language_info": {
   "codemirror_mode": {
    "name": "ipython",
    "version": 3
   },
   "file_extension": ".py",
   "mimetype": "text/x-python",
   "name": "python",
   "nbconvert_exporter": "python",
   "pygments_lexer": "ipython3",
   "version": "3.6.5"
  }
 },
 "nbformat": 4,
 "nbformat_minor": 2
}
