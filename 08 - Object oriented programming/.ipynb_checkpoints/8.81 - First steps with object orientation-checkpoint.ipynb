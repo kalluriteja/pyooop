{
 "cells": [
  {
   "cell_type": "markdown",
   "metadata": {},
   "source": [
    "# First Steps: Object Orientation\n",
    "\n",
    "In this lesson you will learn:\n",
    "\n",
    "- How to use object orientation in Python\n",
    "- How to create a class\n",
    "- What methods are"
   ]
  },
  {
   "cell_type": "markdown",
   "metadata": {},
   "source": [
    "We have already worked with objects, such as the Python List object, to which we have applied methods such as the append() method:"
   ]
  },
  {
   "cell_type": "code",
   "execution_count": 1,
   "metadata": {},
   "outputs": [
    {
     "name": "stdout",
     "output_type": "stream",
     "text": [
      "['Max', 'Monica', 'Eric']\n"
     ]
    }
   ],
   "source": [
    "students = [\"Max\", \"Monica\"]\n",
    "students.append(\"Eric\")\n",
    "\n",
    "print(students)"
   ]
  },
  {
   "cell_type": "markdown",
   "metadata": {},
   "source": [
    "### Define a class"
   ]
  },
  {
   "cell_type": "markdown",
   "metadata": {},
   "source": [
    "We want to create our own objects with our own methods. For this we need classes, these are building plans for objects. The objects created according to these instructions are called instances of this class."
   ]
  },
  {
   "cell_type": "code",
   "execution_count": 4,
   "metadata": {},
   "outputs": [],
   "source": [
    "# We define the class Student with the method name(), \n",
    "# class names start with capital letters according to convention\n",
    "\n",
    "class Student():\n",
    "    \n",
    "    # self is a keyword. it works as a placeholder for the respective instance\n",
    "    def name(self):\n",
    "        print(self.firstname + \" \" + self.lastname)"
   ]
  },
  {
   "cell_type": "markdown",
   "metadata": {},
   "source": [
    "### Create an instance"
   ]
  },
  {
   "cell_type": "markdown",
   "metadata": {},
   "source": [
    "Using this class as a template, we now create a student instance and save it in a variable:"
   ]
  },
  {
   "cell_type": "code",
   "execution_count": 5,
   "metadata": {},
   "outputs": [],
   "source": [
    "eric = Student()"
   ]
  },
  {
   "cell_type": "markdown",
   "metadata": {},
   "source": [
    "We define two variables for the object, which we can access via the object using point notation:"
   ]
  },
  {
   "cell_type": "code",
   "execution_count": 8,
   "metadata": {},
   "outputs": [
    {
     "name": "stdout",
     "output_type": "stream",
     "text": [
      "Johnson\n"
     ]
    }
   ],
   "source": [
    "eric.firstname = \"Eric\"\n",
    "eric.lastname = \"Johnson\"\n",
    "\n",
    "print(eric.lastname)"
   ]
  },
  {
   "cell_type": "code",
   "execution_count": 10,
   "metadata": {},
   "outputs": [
    {
     "name": "stdout",
     "output_type": "stream",
     "text": [
      "Monica\n",
      "Miller\n"
     ]
    }
   ],
   "source": [
    "monica = Student()\n",
    "monica.firstname = \"Monica\"\n",
    "monica.lastname =\"Miller\"\n",
    "\n",
    "print(monica.firstname)\n",
    "print(monica.lastname)"
   ]
  },
  {
   "cell_type": "markdown",
   "metadata": {},
   "source": [
    "### Use the method of an object\n",
    "Access to a method of an object works as usual:"
   ]
  },
  {
   "cell_type": "code",
   "execution_count": 11,
   "metadata": {},
   "outputs": [
    {
     "name": "stdout",
     "output_type": "stream",
     "text": [
      "Eric Johnson\n"
     ]
    }
   ],
   "source": [
    "eric.name()"
   ]
  },
  {
   "cell_type": "code",
   "execution_count": 12,
   "metadata": {},
   "outputs": [
    {
     "name": "stdout",
     "output_type": "stream",
     "text": [
      "Monica Miller\n"
     ]
    }
   ],
   "source": [
    "monica.name()"
   ]
  },
  {
   "cell_type": "markdown",
   "metadata": {},
   "source": [
    "In particular, there can also be other objects with a method of the same name:"
   ]
  },
  {
   "cell_type": "code",
   "execution_count": 17,
   "metadata": {},
   "outputs": [
    {
     "name": "stdout",
     "output_type": "stream",
     "text": [
      "Max Miller: Executive\n"
     ]
    }
   ],
   "source": [
    "class Company():\n",
    "    \n",
    "    def name(self):\n",
    "        print(self.legal_name + \": \" + self.profession)\n",
    "\n",
    "c = Company()\n",
    "c.legal_name = \"Max Miller\"\n",
    "c.profession = \"Executive\"\n",
    "\n",
    "c.name()"
   ]
  },
  {
   "cell_type": "code",
   "execution_count": 18,
   "metadata": {},
   "outputs": [
    {
     "name": "stdout",
     "output_type": "stream",
     "text": [
      "Max Miller: Executive\n",
      "Max Miller: Executive\n",
      "Max Miller: Executive\n",
      "Max Miller: Executive\n",
      "Max Miller: Executive\n",
      "Eric Johnson\n",
      "Eric Johnson\n",
      "Eric Johnson\n",
      "Eric Johnson\n",
      "Eric Johnson\n",
      "Monica Miller\n",
      "Monica Miller\n",
      "Monica Miller\n",
      "Monica Miller\n",
      "Monica Miller\n"
     ]
    }
   ],
   "source": [
    "def name_5x(v):\n",
    "    for i in range(0,5):\n",
    "         v.name() \n",
    "    \n",
    "name_5x(c)\n",
    "name_5x(eric)\n",
    "name_5x(monica)"
   ]
  },
  {
   "cell_type": "markdown",
   "metadata": {},
   "source": [
    "In the function name_5x() the method name() belonging to the object is executed. Of course, the objects must contain a name() method."
   ]
  }
 ],
 "metadata": {
  "kernelspec": {
   "display_name": "Python 3",
   "language": "python",
   "name": "python3"
  },
  "language_info": {
   "codemirror_mode": {
    "name": "ipython",
    "version": 3
   },
   "file_extension": ".py",
   "mimetype": "text/x-python",
   "name": "python",
   "nbconvert_exporter": "python",
   "pygments_lexer": "ipython3",
   "version": "3.6.5"
  }
 },
 "nbformat": 4,
 "nbformat_minor": 2
}
