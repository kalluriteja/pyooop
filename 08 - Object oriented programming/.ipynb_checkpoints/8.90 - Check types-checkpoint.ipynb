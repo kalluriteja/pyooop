{
 "cells": [
  {
   "cell_type": "markdown",
   "metadata": {},
   "source": [
    "# Check types of variables - the type() and isinstance() functions"
   ]
  },
  {
   "cell_type": "markdown",
   "metadata": {},
   "source": [
    "We will again use the well-known Student and WorkingStudent classes for the examples:"
   ]
  },
  {
   "cell_type": "code",
   "execution_count": 1,
   "metadata": {},
   "outputs": [],
   "source": [
    "class Student():\n",
    "    def __init__(self, firstname, surname):\n",
    "        self.firstname = firstname\n",
    "        self.surname = surname\n",
    "\n",
    "    def name(self):\n",
    "        return self.firstname + \" \" + self.surname\n",
    "        \n",
    "class WorkingStudent(Student):\n",
    "    def __init__(self, firstname, surname, company):\n",
    "        super().__init__(firstname, surname)\n",
    "        self.company = company\n",
    "        \n",
    "    def name(self):\n",
    "        return super().name() + \" (\" + self.company + \")\""
   ]
  },
  {
   "cell_type": "code",
   "execution_count": 4,
   "metadata": {},
   "outputs": [],
   "source": [
    "w_student = WorkingStudent(\"John\", \"Doa\", \"Evilcorp\")\n",
    "student = Student(\"Monica\", \"Miller\")"
   ]
  },
  {
   "cell_type": "markdown",
   "metadata": {},
   "source": [
    "### Check the type with type()\n",
    "With the **type()** function we can determine the type of an object: "
   ]
  },
  {
   "cell_type": "code",
   "execution_count": 5,
   "metadata": {},
   "outputs": [
    {
     "name": "stdout",
     "output_type": "stream",
     "text": [
      "<class '__main__.WorkingStudent'>\n",
      "<class '__main__.Student'>\n"
     ]
    }
   ],
   "source": [
    "print(type(w_student))\n",
    "print(type(student))"
   ]
  },
  {
   "cell_type": "code",
   "execution_count": 7,
   "metadata": {},
   "outputs": [
    {
     "name": "stdout",
     "output_type": "stream",
     "text": [
      "I am a real Student.\n"
     ]
    }
   ],
   "source": [
    "if type(w_student) == Student:\n",
    "    print(\"I am a WorkingStudent.\")\n",
    "\n",
    "if type(student) == Student:\n",
    "    print(\"I am a real Student.\")"
   ]
  },
  {
   "cell_type": "markdown",
   "metadata": {},
   "source": [
    "### Check if it is an instance with isinstance()\n",
    "\n",
    "The function **isinstance()** gets two parameters: the variable and the class it is checked against. isinstance() returns a boolean:"
   ]
  },
  {
   "cell_type": "code",
   "execution_count": 8,
   "metadata": {},
   "outputs": [
    {
     "name": "stdout",
     "output_type": "stream",
     "text": [
      "True\n",
      "True\n",
      "False\n",
      "True\n"
     ]
    }
   ],
   "source": [
    "print(isinstance(w_student, WorkingStudent))\n",
    "print(isinstance(w_student, Student))\n",
    "\n",
    "print(isinstance(student, WorkingStudent))\n",
    "print(isinstance(student, Student))"
   ]
  },
  {
   "cell_type": "markdown",
   "metadata": {},
   "source": [
    "Since Student is the parent class of WorkingStudent, w_student is also an instance of Student."
   ]
  },
  {
   "cell_type": "markdown",
   "metadata": {},
   "source": [
    "This function is useful if we want to filter by classes, e.g. to only output instances of WorkingStudent:"
   ]
  },
  {
   "cell_type": "code",
   "execution_count": 10,
   "metadata": {},
   "outputs": [
    {
     "name": "stdout",
     "output_type": "stream",
     "text": [
      "Max Worker (ABC)\n",
      "Paula Worker (XYZ)\n"
     ]
    }
   ],
   "source": [
    "students = [\n",
    "    WorkingStudent(\"Max\", \"Worker\", \"ABC\"),\n",
    "    Student(\"Monica\", \"Smartass\"),\n",
    "    Student(\"Eric\", \"Smartass\"),\n",
    "    WorkingStudent(\"Paula\", \"Worker\", \"XYZ\")\n",
    "]\n",
    "\n",
    "for student in students:\n",
    "    ## alternativ: \n",
    "    ## if isinstance(student, WorkingStudent):\n",
    "    if type(student) == WorkingStudent:\n",
    "        print(student.name())"
   ]
  }
 ],
 "metadata": {
  "kernelspec": {
   "display_name": "Python 3",
   "language": "python",
   "name": "python3"
  },
  "language_info": {
   "codemirror_mode": {
    "name": "ipython",
    "version": 3
   },
   "file_extension": ".py",
   "mimetype": "text/x-python",
   "name": "python",
   "nbconvert_exporter": "python",
   "pygments_lexer": "ipython3",
   "version": "3.6.5"
  }
 },
 "nbformat": 4,
 "nbformat_minor": 2
}
