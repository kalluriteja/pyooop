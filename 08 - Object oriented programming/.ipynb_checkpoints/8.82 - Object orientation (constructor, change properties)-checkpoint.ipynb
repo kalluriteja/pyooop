{
 "cells": [
  {
   "cell_type": "markdown",
   "metadata": {},
   "source": [
    "# Object orientation: constructor, change properties\n",
    "\n",
    "In this lesson you will learn how to:\n",
    "\n",
    "- Use a constructor to define the properties of a class\n",
    "- Change the properties of an instance."
   ]
  },
  {
   "cell_type": "markdown",
   "metadata": {},
   "source": [
    "We have already extended the Students class a little:"
   ]
  },
  {
   "cell_type": "code",
   "execution_count": 3,
   "metadata": {},
   "outputs": [
    {
     "name": "stdout",
     "output_type": "stream",
     "text": [
      "John Doe\n"
     ]
    }
   ],
   "source": [
    "class Student():\n",
    "    \n",
    "    # This is our so-called constructor: here we define the variables for the class\n",
    "    # self is mandatory and always refers to the object currently being created\n",
    "    # but self does not appear as a parameter when the instance is created!\n",
    "    def __init__(self, firstname, lastname):\n",
    "        self.firstname = firstname\n",
    "        self.lastname = lastname\n",
    "    \n",
    "    def name(self):\n",
    "        print(self.firstname + \" \" + self.lastname)\n",
    "\n",
    "john = Student(\"John\", \"Doe\")\n",
    "john.name()"
   ]
  },
  {
   "cell_type": "markdown",
   "metadata": {},
   "source": [
    "The class definition with Constructor therefore delivers the same results as the previous, more complicated definition."
   ]
  },
  {
   "cell_type": "markdown",
   "metadata": {},
   "source": [
    "We are adding another method:"
   ]
  },
  {
   "cell_type": "code",
   "execution_count": 4,
   "metadata": {},
   "outputs": [],
   "source": [
    "class Student():\n",
    "    \n",
    "    def __init__(self, firstname, lastname):\n",
    "        self.firstname = firstname\n",
    "        self.lastname = lastname\n",
    "        # Here we initialize the new variable term (property)\n",
    "        self.term = 1\n",
    "        \n",
    "         # With this method we increase the variable term by 1\n",
    "    def increase_term(self):\n",
    "        self.term = self.term + 1\n",
    "    \n",
    "        # name() now also outputs the number of semesters\n",
    "    def name(self):\n",
    "        print(self.firstname + \" \" + self.lastname + \" (Semester: \" + str(self.term) + \")\")\n",
    "        "
   ]
  },
  {
   "cell_type": "code",
   "execution_count": 5,
   "metadata": {},
   "outputs": [
    {
     "name": "stdout",
     "output_type": "stream",
     "text": [
      "John Doe (Semester: 1)\n"
     ]
    }
   ],
   "source": [
    "john = Student(\"John\", \"Doe\")\n",
    "john.name()"
   ]
  },
  {
   "cell_type": "code",
   "execution_count": 6,
   "metadata": {},
   "outputs": [
    {
     "name": "stdout",
     "output_type": "stream",
     "text": [
      "John Doe (Semester: 2)\n"
     ]
    }
   ],
   "source": [
    "john.increase_term()\n",
    "john.name()"
   ]
  }
 ],
 "metadata": {
  "kernelspec": {
   "display_name": "Python 3",
   "language": "python",
   "name": "python3"
  },
  "language_info": {
   "codemirror_mode": {
    "name": "ipython",
    "version": 3
   },
   "file_extension": ".py",
   "mimetype": "text/x-python",
   "name": "python",
   "nbconvert_exporter": "python",
   "pygments_lexer": "ipython3",
   "version": "3.6.5"
  }
 },
 "nbformat": 4,
 "nbformat_minor": 2
}
