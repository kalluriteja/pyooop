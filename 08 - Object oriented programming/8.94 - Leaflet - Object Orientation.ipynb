{
 "cells": [
  {
   "cell_type": "markdown",
   "metadata": {},
   "source": [
    "# First Steps: Object Orientation\n",
    "\n",
    "Object Orientation is an incredibly powerful concept that allows us to organize code cleanly."
   ]
  },
  {
   "cell_type": "markdown",
   "metadata": {},
   "source": [
    "We have already worked with objects, such as the Python List object, to which we have applied methods such as the append() method."
   ]
  },
  {
   "cell_type": "code",
   "execution_count": 1,
   "metadata": {},
   "outputs": [
    {
     "name": "stdout",
     "output_type": "stream",
     "text": [
      "['Max', 'Monica', 'Eric']\n"
     ]
    }
   ],
   "source": [
    "students = [\"Max\", \"Monica\"]\n",
    "students.append(\"Eric\")\n",
    "\n",
    "print(students)"
   ]
  },
  {
   "cell_type": "markdown",
   "metadata": {},
   "source": [
    "### Define a class"
   ]
  },
  {
   "cell_type": "markdown",
   "metadata": {},
   "source": [
    "We want to create our own objects with our own methods. For this we need classes, these are building plans for objects. The objects created according to these instructions are called instances of this class:"
   ]
  },
  {
   "cell_type": "code",
   "execution_count": 4,
   "metadata": {},
   "outputs": [],
   "source": [
    "# We define the class Student with the method name(),\n",
    "# Class names start with capital letters according to convention\n",
    "\n",
    "class Student():\n",
    "    \n",
    "    # self is a keyword, it acts in a way \n",
    "    # as placeholder for the respective instance\n",
    "    def name(self):\n",
    "        print(self.firstname + \" \" + self.lastname)"
   ]
  },
  {
   "cell_type": "markdown",
   "metadata": {},
   "source": [
    "### Create an instance"
   ]
  },
  {
   "cell_type": "markdown",
   "metadata": {},
   "source": [
    "Using this class as a template, we now create a student instance and save it in a variable:"
   ]
  },
  {
   "cell_type": "code",
   "execution_count": 5,
   "metadata": {},
   "outputs": [],
   "source": [
    "eric = Student()"
   ]
  },
  {
   "cell_type": "code",
   "execution_count": 7,
   "metadata": {},
   "outputs": [
    {
     "name": "stdout",
     "output_type": "stream",
     "text": [
      "Monica\n",
      "Miller\n"
     ]
    }
   ],
   "source": [
    "monica = Student()\n",
    "monica.firstname = \"Monica\"\n",
    "monica.lastname =\"Miller\"\n",
    "\n",
    "print(monica.firstname)\n",
    "print(monica.lastname)"
   ]
  },
  {
   "cell_type": "markdown",
   "metadata": {},
   "source": [
    "### Use the method of an object\n",
    "Access to the method of the object works as usual:"
   ]
  },
  {
   "cell_type": "code",
   "execution_count": 8,
   "metadata": {},
   "outputs": [
    {
     "ename": "AttributeError",
     "evalue": "'Student' object has no attribute 'firstname'",
     "output_type": "error",
     "traceback": [
      "\u001b[1;31m---------------------------------------------------------------------------\u001b[0m",
      "\u001b[1;31mAttributeError\u001b[0m                            Traceback (most recent call last)",
      "\u001b[1;32m<ipython-input-8-8684eabe9641>\u001b[0m in \u001b[0;36m<module>\u001b[1;34m()\u001b[0m\n\u001b[1;32m----> 1\u001b[1;33m \u001b[0meric\u001b[0m\u001b[1;33m.\u001b[0m\u001b[0mname\u001b[0m\u001b[1;33m(\u001b[0m\u001b[1;33m)\u001b[0m\u001b[1;33m\u001b[0m\u001b[0m\n\u001b[0m",
      "\u001b[1;32m<ipython-input-4-d23e3c6c8e90>\u001b[0m in \u001b[0;36mname\u001b[1;34m(self)\u001b[0m\n\u001b[0;32m      7\u001b[0m     \u001b[1;31m# as placeholder for the respective instance\u001b[0m\u001b[1;33m\u001b[0m\u001b[1;33m\u001b[0m\u001b[0m\n\u001b[0;32m      8\u001b[0m     \u001b[1;32mdef\u001b[0m \u001b[0mname\u001b[0m\u001b[1;33m(\u001b[0m\u001b[0mself\u001b[0m\u001b[1;33m)\u001b[0m\u001b[1;33m:\u001b[0m\u001b[1;33m\u001b[0m\u001b[0m\n\u001b[1;32m----> 9\u001b[1;33m         \u001b[0mprint\u001b[0m\u001b[1;33m(\u001b[0m\u001b[0mself\u001b[0m\u001b[1;33m.\u001b[0m\u001b[0mfirstname\u001b[0m \u001b[1;33m+\u001b[0m \u001b[1;34m\" \"\u001b[0m \u001b[1;33m+\u001b[0m \u001b[0mself\u001b[0m\u001b[1;33m.\u001b[0m\u001b[0mlastname\u001b[0m\u001b[1;33m)\u001b[0m\u001b[1;33m\u001b[0m\u001b[0m\n\u001b[0m",
      "\u001b[1;31mAttributeError\u001b[0m: 'Student' object has no attribute 'firstname'"
     ]
    }
   ],
   "source": [
    "eric.name()"
   ]
  },
  {
   "cell_type": "code",
   "execution_count": 10,
   "metadata": {},
   "outputs": [
    {
     "name": "stdout",
     "output_type": "stream",
     "text": [
      "Monica Miller\n"
     ]
    }
   ],
   "source": [
    "monica.name()"
   ]
  },
  {
   "cell_type": "markdown",
   "metadata": {},
   "source": [
    "In particular, there can also be other objects with a method of the same name:"
   ]
  },
  {
   "cell_type": "code",
   "execution_count": 11,
   "metadata": {},
   "outputs": [
    {
     "name": "stdout",
     "output_type": "stream",
     "text": [
      "John Doe: Evilcorp\n"
     ]
    }
   ],
   "source": [
    "class Company():\n",
    "    \n",
    "    def name(self):\n",
    "        print(self.legal_name + \": \" + self.legal_type)\n",
    "\n",
    "c = Company()\n",
    "c.legal_name = \"John Doe\"\n",
    "c.legal_type = \"Evilcorp\"\n",
    "\n",
    "c.name()"
   ]
  },
  {
   "cell_type": "code",
   "execution_count": 13,
   "metadata": {
    "scrolled": true
   },
   "outputs": [
    {
     "name": "stdout",
     "output_type": "stream",
     "text": [
      "John Doe: Evilcorp\n",
      "John Doe: Evilcorp\n",
      "John Doe: Evilcorp\n",
      "John Doe: Evilcorp\n",
      "John Doe: Evilcorp\n",
      "Monica Miller\n",
      "Monica Miller\n",
      "Monica Miller\n",
      "Monica Miller\n",
      "Monica Miller\n"
     ]
    }
   ],
   "source": [
    "def name_5x(v):\n",
    "    for i in range(0,5):\n",
    "         v.name() \n",
    "    \n",
    "name_5x(c)\n",
    "# name_5x(eric)\n",
    "name_5x(monica)"
   ]
  },
  {
   "cell_type": "markdown",
   "metadata": {},
   "source": [
    "In the function name_5x() the method name() belonging to the object is executed. Of course, the objects must contain a name() method. Eric would create an error, as he is not properly initialized."
   ]
  },
  {
   "cell_type": "markdown",
   "metadata": {},
   "source": [
    "# Object orientation: constructor, change properties\n",
    "\n",
    "The next sections are about: \n",
    "\n",
    "- Use a constructor to define the properties of a class\n",
    "- Change the properties of an instance."
   ]
  },
  {
   "cell_type": "markdown",
   "metadata": {},
   "source": [
    "We have already extended the Students class a little:"
   ]
  },
  {
   "cell_type": "code",
   "execution_count": 18,
   "metadata": {},
   "outputs": [
    {
     "name": "stdout",
     "output_type": "stream",
     "text": [
      "Will Smith\n"
     ]
    }
   ],
   "source": [
    "class Student():\n",
    "    \n",
    "    # This is our so-called constructor: \n",
    "    # Here we define the variables for the class. \n",
    "    #\n",
    "    # self is mandatory and always refers to the Object that is currently being created\n",
    "    #\n",
    "    # When the instance is created, self does not as a parameter!\n",
    "    def __init__(self, firstname, lastname):\n",
    "        self.firstname = firstname\n",
    "        self.lastname = lastname\n",
    "    \n",
    "    def name(self):\n",
    "        print(self.firstname + \" \" + self.lastname)\n",
    "\n",
    "will = Student(\"Will\", \"Smith\")\n",
    "will.name()"
   ]
  },
  {
   "cell_type": "markdown",
   "metadata": {},
   "source": [
    "The class definition with Constructor therefore delivers the same results as the previous more cumbersome definition."
   ]
  },
  {
   "cell_type": "markdown",
   "metadata": {},
   "source": [
    "We are adding another method:"
   ]
  },
  {
   "cell_type": "code",
   "execution_count": 21,
   "metadata": {},
   "outputs": [],
   "source": [
    "class Student():\n",
    "    \n",
    "    def __init__(self, firstname, lastname):\n",
    "        self.firstname = firstname\n",
    "        self.lastname = lastname\n",
    "        # Here we initialize the new variable term (property)\n",
    "        self.term = 1\n",
    "        \n",
    "         # With this method we increase the term variable by 1\n",
    "    def increase_term(self):\n",
    "        self.term = self.term + 1\n",
    "    \n",
    "        # name() now also outputs the number of semesters\n",
    "    def name(self):\n",
    "        print(self.firstname + \" \" + self.lastname + \n",
    "              \" (Semester: \" + str(self.term) + \")\")\n",
    "        "
   ]
  },
  {
   "cell_type": "code",
   "execution_count": 23,
   "metadata": {},
   "outputs": [
    {
     "name": "stdout",
     "output_type": "stream",
     "text": [
      "Eric Johnson (Semester: 1)\n"
     ]
    }
   ],
   "source": [
    "eric = Student(\"Eric\", \"Johnson\")\n",
    "eric.name()"
   ]
  },
  {
   "cell_type": "code",
   "execution_count": 24,
   "metadata": {
    "scrolled": true
   },
   "outputs": [
    {
     "name": "stdout",
     "output_type": "stream",
     "text": [
      "Eric Johnson (Semester: 2)\n"
     ]
    }
   ],
   "source": [
    "eric.increase_term()\n",
    "eric.name()"
   ]
  },
  {
   "cell_type": "markdown",
   "metadata": {},
   "source": [
    "## Object Orientation: Private Properties and Methods\n",
    "\n",
    "Private properties allow clean encapsulation of properties and methods. This allows us to \"protect\" variables and methods from \"curious looks\" from outside - very important if we want to be able to adjust these variables/methods later. This is only possible if our colleague does not access it from his code:"
   ]
  },
  {
   "cell_type": "code",
   "execution_count": 26,
   "metadata": {},
   "outputs": [
    {
     "name": "stdout",
     "output_type": "stream",
     "text": [
      "Eric Johnson (Semester: 2)\n"
     ]
    }
   ],
   "source": [
    "class Student():\n",
    "    \n",
    "    def __init__(self, firstname, lastname):\n",
    "        self.firstname = firstname\n",
    "        self.lastname = lastname\n",
    "        self.term = 1\n",
    "        \n",
    "    # With this method we limit that you can \n",
    "    # not have more than nine semesters            \n",
    "    def increase_term(self):\n",
    "        if self.term >= 9:\n",
    "            return\n",
    "        self.term = self.term + 1\n",
    "        \n",
    "    def get_term(self):\n",
    "        return self.term\n",
    "    \n",
    "    def name(self):\n",
    "        print(self.firstname + \" \" + self.lastname + \n",
    "              \" (Semester: \" + str(self.term) + \")\")\n",
    "        \n",
    "        \n",
    "eric = Student(\"Eric\", \"Johnson\")\n",
    "eric.increase_term()\n",
    "eric.name()\n"
   ]
  },
  {
   "cell_type": "code",
   "execution_count": 27,
   "metadata": {},
   "outputs": [
    {
     "name": "stdout",
     "output_type": "stream",
     "text": [
      "Erik Mustermann (Semester: 9)\n"
     ]
    }
   ],
   "source": [
    "erik.increase_term()\n",
    "erik.increase_term()\n",
    "erik.increase_term()\n",
    "erik.increase_term()\n",
    "erik.increase_term()\n",
    "erik.increase_term()\n",
    "erik.increase_term()\n",
    "erik.increase_term()\n",
    "erik.increase_term()\n",
    "erik.increase_term()\n",
    "erik.name()\n"
   ]
  },
  {
   "cell_type": "markdown",
   "metadata": {},
   "source": [
    "Nevertheless, we can still access the property from outside and overwrite it:"
   ]
  },
  {
   "cell_type": "code",
   "execution_count": 28,
   "metadata": {},
   "outputs": [
    {
     "name": "stdout",
     "output_type": "stream",
     "text": [
      "Erik Mustermann (Semester: 100)\n"
     ]
    }
   ],
   "source": [
    "erik.term = 100\n",
    "erik.name()"
   ]
  },
  {
   "cell_type": "markdown",
   "metadata": {},
   "source": [
    "However, if we put two underscores before the variable, we make it **private**.\n",
    "\n",
    "Python also has the programmers' convention of naming private properties with an underscore, even if they are technically not yet private. It really takes two underscores at the beginning of its name:"
   ]
  },
  {
   "cell_type": "code",
   "execution_count": 29,
   "metadata": {},
   "outputs": [],
   "source": [
    "class Student():\n",
    "    \n",
    "    def __init__(self, firstname, lastname):\n",
    "        self.firstname = firstname\n",
    "        self.lastname = lastname\n",
    "        self.__term = 1\n",
    "        \n",
    "    def increase_term(self):\n",
    "        if self.__term >= 9:\n",
    "            return\n",
    "        self.__term = self.__term + 1\n",
    "     \n",
    "    # We'll add this method to be able to access it from outside  \n",
    "    def get_term(self):\n",
    "        return self.__term\n",
    "    \n",
    "    def name(self):\n",
    "        print(self.firstname + \" \" + self.lastname + \n",
    "              \" (Semester: \" + str(self.__term) + \")\")"
   ]
  },
  {
   "cell_type": "code",
   "execution_count": 33,
   "metadata": {},
   "outputs": [
    {
     "ename": "AttributeError",
     "evalue": "'Student' object has no attribute '__term'",
     "output_type": "error",
     "traceback": [
      "\u001b[1;31m---------------------------------------------------------------------------\u001b[0m",
      "\u001b[1;31mAttributeError\u001b[0m                            Traceback (most recent call last)",
      "\u001b[1;32m<ipython-input-33-d39afcdd0f3e>\u001b[0m in \u001b[0;36m<module>\u001b[1;34m()\u001b[0m\n\u001b[0;32m      6\u001b[0m \u001b[1;31m# That's why we can't access the attribute like this:\u001b[0m\u001b[1;33m\u001b[0m\u001b[1;33m\u001b[0m\u001b[0m\n\u001b[0;32m      7\u001b[0m \u001b[1;33m\u001b[0m\u001b[0m\n\u001b[1;32m----> 8\u001b[1;33m \u001b[0mprint\u001b[0m\u001b[1;33m(\u001b[0m\u001b[0meric\u001b[0m\u001b[1;33m.\u001b[0m\u001b[0m__term\u001b[0m\u001b[1;33m)\u001b[0m\u001b[1;33m\u001b[0m\u001b[0m\n\u001b[0m",
      "\u001b[1;31mAttributeError\u001b[0m: 'Student' object has no attribute '__term'"
     ]
    }
   ],
   "source": [
    "eric = Student(\"Eric\", \"Johnson\")\n",
    "# Point in conjunction with underscore is understood as warning \n",
    "# avoid at all costs!\n",
    "\n",
    "# Two underscores (like here) is completely \"private\",\n",
    "# That's why we can't access the attribute like this:\n",
    "\n",
    "print(eric.__term)"
   ]
  },
  {
   "cell_type": "markdown",
   "metadata": {},
   "source": [
    "We can also restrict access to methods:"
   ]
  },
  {
   "cell_type": "code",
   "execution_count": 38,
   "metadata": {},
   "outputs": [],
   "source": [
    "class Student():\n",
    "    \n",
    "    def __init__(self, firstname, lastname):\n",
    "        self.firstname = firstname\n",
    "        self.lastname = lastname\n",
    "        self.__term = 1\n",
    "        \n",
    "    def increase_term(self):\n",
    "        if self.__term >= 9:\n",
    "            return\n",
    "        self.__term = self.__term + 1\n",
    "\n",
    "    def get_term(self):\n",
    "        return self.__term\n",
    "    \n",
    "    def name(self):\n",
    "        print(self.firstname + \" \" + self.lastname + \n",
    "              \" (Semester: \" + str(self.__term) + \")\")\n",
    "        \n",
    "    # Our private function    \n",
    "    def __do_something(self):\n",
    "        print(self.firstname[0] + \" \" + self.lastname)"
   ]
  },
  {
   "cell_type": "code",
   "execution_count": 40,
   "metadata": {
    "scrolled": true
   },
   "outputs": [
    {
     "name": "stdout",
     "output_type": "stream",
     "text": [
      "Adam Test (Semester: 1)\n"
     ]
    },
    {
     "ename": "AttributeError",
     "evalue": "'Student' object has no attribute '__do_something'",
     "output_type": "error",
     "traceback": [
      "\u001b[1;31m---------------------------------------------------------------------------\u001b[0m",
      "\u001b[1;31mAttributeError\u001b[0m                            Traceback (most recent call last)",
      "\u001b[1;32m<ipython-input-40-58c6a04a0084>\u001b[0m in \u001b[0;36m<module>\u001b[1;34m()\u001b[0m\n\u001b[0;32m      1\u001b[0m \u001b[0mtest\u001b[0m \u001b[1;33m=\u001b[0m \u001b[0mStudent\u001b[0m\u001b[1;33m(\u001b[0m\u001b[1;34m\"Adam\"\u001b[0m\u001b[1;33m,\u001b[0m \u001b[1;34m\"Test\"\u001b[0m\u001b[1;33m)\u001b[0m\u001b[1;33m\u001b[0m\u001b[0m\n\u001b[0;32m      2\u001b[0m \u001b[0mtest\u001b[0m\u001b[1;33m.\u001b[0m\u001b[0mname\u001b[0m\u001b[1;33m(\u001b[0m\u001b[1;33m)\u001b[0m\u001b[1;33m\u001b[0m\u001b[0m\n\u001b[1;32m----> 3\u001b[1;33m \u001b[0mtest\u001b[0m\u001b[1;33m.\u001b[0m\u001b[0m__do_something\u001b[0m\u001b[1;33m(\u001b[0m\u001b[1;33m)\u001b[0m\u001b[1;33m\u001b[0m\u001b[0m\n\u001b[0m",
      "\u001b[1;31mAttributeError\u001b[0m: 'Student' object has no attribute '__do_something'"
     ]
    }
   ],
   "source": [
    "test = Student(\"Adam\", \"Test\")\n",
    "test.name()\n",
    "test.__do_something()"
   ]
  },
  {
   "cell_type": "markdown",
   "metadata": {},
   "source": [
    "## In Python there are a few special methods that our class can implement...\n",
    "\n",
    "With that, you can make sure that:\n",
    "\n",
    "- your class can be printed directly\n",
    "- you can calculate the len(variable)."
   ]
  },
  {
   "cell_type": "markdown",
   "metadata": {},
   "source": [
    "The str-method"
   ]
  },
  {
   "cell_type": "code",
   "execution_count": 44,
   "metadata": {},
   "outputs": [
    {
     "name": "stdout",
     "output_type": "stream",
     "text": [
      "PhoneBook({'Doe': '+12345678', 'Miller': '+123456789'})\n"
     ]
    }
   ],
   "source": [
    "class PhoneBook():\n",
    "    def __init__(self):\n",
    "        self.__entries = {}\n",
    "        \n",
    "    def add(self, name, phone_number):\n",
    "        self.__entries[name] = phone_number\n",
    "        \n",
    "    def get(self, name):\n",
    "        if name in self.__entries:\n",
    "            return self.__entries[name]\n",
    "        else:\n",
    "            return None\n",
    "    \n",
    "    def __str__(self):\n",
    "        return \"PhoneBook(\" + str(self.__entries) + \")\"\n",
    "    \n",
    "book = PhoneBook()\n",
    "book.add(\"Doe\", \"+12345678\")\n",
    "book.add(\"Miller\", \"+123456789\")\n",
    "\n",
    "print(book)"
   ]
  },
  {
   "cell_type": "markdown",
   "metadata": {},
   "source": [
    "The repr-method"
   ]
  },
  {
   "cell_type": "code",
   "execution_count": 45,
   "metadata": {},
   "outputs": [
    {
     "name": "stdout",
     "output_type": "stream",
     "text": [
      "PhoneBook({'Doe': '+12345678', 'Miller': '+123456789'})\n"
     ]
    }
   ],
   "source": [
    "class PhoneBook():\n",
    "    def __init__(self):\n",
    "        self.__entries = {}\n",
    "        \n",
    "    def add(self, name, phone_number):\n",
    "        self.__entries[name] = phone_number\n",
    "        \n",
    "    def get(self, name):\n",
    "        if name in self.__entries:\n",
    "            return self.__entries[name]\n",
    "        else:\n",
    "            return None\n",
    "    \n",
    "    def __str__(self):\n",
    "        return \"PhoneBook(\" + str(self.__entries) + \")\"\n",
    "    \n",
    "    def __repr__(self):\n",
    "        return self.__str__()\n",
    "\n",
    "        \n",
    "book = PhoneBook()\n",
    "book.add(\"Doe\", \"+12345678\")\n",
    "book.add(\"Miller\", \"+123456789\")\n",
    "\n",
    "print(book)"
   ]
  },
  {
   "cell_type": "markdown",
   "metadata": {},
   "source": [
    "The len-method"
   ]
  },
  {
   "cell_type": "code",
   "execution_count": 46,
   "metadata": {},
   "outputs": [
    {
     "name": "stdout",
     "output_type": "stream",
     "text": [
      "2\n"
     ]
    }
   ],
   "source": [
    "class PhoneBook():\n",
    "    def __init__(self):\n",
    "        self.__entries = {}\n",
    "        \n",
    "    def add(self, name, phone_number):\n",
    "        self.__entries[name] = phone_number\n",
    "        \n",
    "    def get(self, name):\n",
    "        if name in self.__entries:\n",
    "            return self.__entries[name]\n",
    "        else:\n",
    "            return None\n",
    "    \n",
    "    def __len__(self):\n",
    "        return len(self.__entries)\n",
    "\n",
    "        \n",
    "book = PhoneBook()\n",
    "book.add(\"Mustermann\", \"+4912345678\")\n",
    "book.add(\"Müller\", \"+49123456789\")\n",
    "\n",
    "print(len(book))"
   ]
  },
  {
   "cell_type": "markdown",
   "metadata": {},
   "source": [
    "# Inheritance\n",
    "\n",
    "Inheritance is a fundamental concept of object orientation with which you can divide and better model data."
   ]
  },
  {
   "cell_type": "markdown",
   "metadata": {},
   "source": [
    "We already know the student class:"
   ]
  },
  {
   "cell_type": "code",
   "execution_count": 48,
   "metadata": {},
   "outputs": [],
   "source": [
    "class Student():\n",
    "    def __init__(self, firstname, surname):\n",
    "        self.firstname = firstname\n",
    "        self.surname = surname\n",
    "\n",
    "    def name(self):\n",
    "        return self.firstname + \" \" + self.surname"
   ]
  },
  {
   "cell_type": "code",
   "execution_count": 49,
   "metadata": {},
   "outputs": [
    {
     "name": "stdout",
     "output_type": "stream",
     "text": [
      "Monica Miller\n"
     ]
    }
   ],
   "source": [
    "student = Student(\"Monica\", \"Miller\")\n",
    "print(student.name())"
   ]
  },
  {
   "cell_type": "markdown",
   "metadata": {},
   "source": [
    "We want to define another class that is similar:"
   ]
  },
  {
   "cell_type": "code",
   "execution_count": 50,
   "metadata": {},
   "outputs": [],
   "source": [
    "class WorkingStudent():\n",
    "    \n",
    "    def __init__(self, firstname, surname, company):\n",
    "        self.firstname = firstname\n",
    "        self.surname = surname\n",
    "        self.company = company\n",
    "    \n",
    "    def name(self):\n",
    "        return self.firstname + \" \" + self.surname\n",
    "        "
   ]
  },
  {
   "cell_type": "code",
   "execution_count": 51,
   "metadata": {},
   "outputs": [
    {
     "name": "stdout",
     "output_type": "stream",
     "text": [
      "John Johnson\n"
     ]
    }
   ],
   "source": [
    "student = WorkingStudent(\"John\", \"Johnson\", \"Evelcorp\")\n",
    "print(student.name())"
   ]
  },
  {
   "cell_type": "markdown",
   "metadata": {},
   "source": [
    "### Define a class with inheritance\n",
    "\n",
    "We can save ourselves the trouble of defining the same instance variables and methods again - thanks to inheritance. For this purpose, we refer to another class definition:"
   ]
  },
  {
   "cell_type": "code",
   "execution_count": 52,
   "metadata": {},
   "outputs": [],
   "source": [
    "# We pass the class from which we want to inherit as a parameter (parent class)\n",
    "class WorkingStudent(Student):\n",
    "    \n",
    "    def __init__(self, firstname, surname, company):\n",
    "        # The old instance variable definitions become obsolete below\n",
    "        # self.firstname = firstname\n",
    "        # self.surname = surname\n",
    "        \n",
    "        # with super() we indicate to Python that the init() method of the parent class should be used\n",
    "        super().__init__(firstname, surname)\n",
    "        self.company = company\n",
    "    \n",
    "    def name(self):\n",
    "        # again we refer with super() to the method of the parent class, which we overwrite for the class WorkingStudent\n",
    "        return super().name() + \" (\" + self.company +\")\""
   ]
  },
  {
   "cell_type": "code",
   "execution_count": 54,
   "metadata": {},
   "outputs": [
    {
     "name": "stdout",
     "output_type": "stream",
     "text": [
      "John Johnson (Evilcorp)\n"
     ]
    }
   ],
   "source": [
    "student = WorkingStudent(\"John\", \"Johnson\", \"Evilcorp\")\n",
    "print(student.name())"
   ]
  },
  {
   "cell_type": "code",
   "execution_count": 56,
   "metadata": {
    "scrolled": true
   },
   "outputs": [
    {
     "name": "stdout",
     "output_type": "stream",
     "text": [
      "Max Worker (ABC)\n",
      "Monica Smartass\n",
      "Eric Smartass\n",
      "Paula Worker (XYZ)\n"
     ]
    }
   ],
   "source": [
    "students = [\n",
    "    WorkingStudent(\"Max\", \"Worker\", \"ABC\"),\n",
    "    Student(\"Monica\", \"Smartass\"),\n",
    "    Student(\"Eric\", \"Smartass\"),\n",
    "    WorkingStudent(\"Paula\", \"Worker\", \"XYZ\")\n",
    "]\n",
    "\n",
    "for student in students:\n",
    "    print(student.name())"
   ]
  },
  {
   "cell_type": "markdown",
   "metadata": {},
   "source": [
    "Here we see that the different name() methods return different outputs, although we access them with the same name."
   ]
  },
  {
   "cell_type": "markdown",
   "metadata": {},
   "source": [
    "# Check types of variables - the type() and isinstance() functions"
   ]
  },
  {
   "cell_type": "markdown",
   "metadata": {},
   "source": [
    "We will again use the well-known Student and WorkingStudent classes for the examples:"
   ]
  },
  {
   "cell_type": "code",
   "execution_count": 57,
   "metadata": {},
   "outputs": [],
   "source": [
    "class Student():\n",
    "    def __init__(self, firstname, surname):\n",
    "        self.firstname = firstname\n",
    "        self.surname = surname\n",
    "\n",
    "    def name(self):\n",
    "        return self.firstname + \" \" + self.surname\n",
    "        \n",
    "class WorkingStudent(Student):\n",
    "    def __init__(self, firstname, surname, company):\n",
    "        super().__init__(firstname, surname)\n",
    "        self.company = company\n",
    "        \n",
    "    def name(self):\n",
    "        return super().name() + \" (\" + self.company + \")\""
   ]
  },
  {
   "cell_type": "code",
   "execution_count": 59,
   "metadata": {},
   "outputs": [],
   "source": [
    "w_student = WorkingStudent(\"John\", \"Doe\", \"Evilcorp\")\n",
    "student = Student(\"Monica\", \"Miller\")"
   ]
  },
  {
   "cell_type": "markdown",
   "metadata": {},
   "source": [
    "### Check the type with type()\n",
    "With the **type()** function we can determine the type of an object: "
   ]
  },
  {
   "cell_type": "code",
   "execution_count": 60,
   "metadata": {},
   "outputs": [
    {
     "name": "stdout",
     "output_type": "stream",
     "text": [
      "<class '__main__.WorkingStudent'>\n",
      "<class '__main__.Student'>\n"
     ]
    }
   ],
   "source": [
    "print(type(w_student))\n",
    "print(type(student))"
   ]
  },
  {
   "cell_type": "code",
   "execution_count": 61,
   "metadata": {},
   "outputs": [
    {
     "name": "stdout",
     "output_type": "stream",
     "text": [
      "I am a real Student\n"
     ]
    }
   ],
   "source": [
    "if type(w_student) == Student:\n",
    "    print(\"I am a Worker.\")\n",
    "\n",
    "if type(student) == Student:\n",
    "    print(\"I am a real Student\")"
   ]
  },
  {
   "cell_type": "markdown",
   "metadata": {},
   "source": [
    "### Check if it is an instance with isinstance()\n",
    "\n",
    "The function **isinstance()** gets two parameters: the variable and the class it will be checked against. isinstance() returns a boolean."
   ]
  },
  {
   "cell_type": "code",
   "execution_count": 62,
   "metadata": {},
   "outputs": [
    {
     "name": "stdout",
     "output_type": "stream",
     "text": [
      "True\n",
      "True\n",
      "False\n",
      "True\n"
     ]
    }
   ],
   "source": [
    "print(isinstance(w_student, WorkingStudent))\n",
    "print(isinstance(w_student, Student))\n",
    "\n",
    "print(isinstance(student, WorkingStudent))\n",
    "print(isinstance(student, Student))"
   ]
  },
  {
   "cell_type": "markdown",
   "metadata": {},
   "source": [
    "Since Student is the parent class of WorkingStudent, w_student is also an instance of Student."
   ]
  },
  {
   "cell_type": "markdown",
   "metadata": {},
   "source": [
    "This function is useful if we want to filter by classes, e.g. only output instances of WorkingStudent:"
   ]
  },
  {
   "cell_type": "code",
   "execution_count": 63,
   "metadata": {},
   "outputs": [
    {
     "name": "stdout",
     "output_type": "stream",
     "text": [
      "Max Worker (ABC)\n",
      "Paula Worker (XYZ)\n"
     ]
    }
   ],
   "source": [
    "students = [\n",
    "    WorkingStudent(\"Max\", \"Worker\", \"ABC\"),\n",
    "    Student(\"Monica\", \"Smartass\"),\n",
    "    Student(\"Eric\", \"Smartass\"),\n",
    "    WorkingStudent(\"Paula\", \"Worker\", \"XYZ\")\n",
    "]\n",
    "\n",
    "for student in students:\n",
    "    ## alternativ: \n",
    "    ## if isinstance(student, WorkingStudent):\n",
    "    if type(student) == WorkingStudent:\n",
    "        print(student.name())"
   ]
  },
  {
   "cell_type": "markdown",
   "metadata": {},
   "source": [
    "## Styleguide - Naming classes and variables\n",
    "\n",
    "Basically it doesn't matter how we name a class / variable in Python. Our program will work either way.\n",
    "\n",
    "***But:** For Python there are some style guides how we can write \"nice\" code. I would like to go through the most important points in this section (https://www.python.org/dev/peps/pep-0008/).\n",
    "\n",
    "How can (should) we name variables / classes / functions, especially if the names should consist of several words?\n",
    "\n",
    "In Python, this is done by convention:\n",
    "\n",
    "- PascalCase (`SeveralWords`)\n",
    "- sneak_case (`several_words`)\n",
    "\n",
    "Unlike other programming languages, this is not used:\n",
    "\n",
    "- camelCase (`severalWordswords`)"
   ]
  },
  {
   "cell_type": "code",
   "execution_count": 64,
   "metadata": {},
   "outputs": [
    {
     "name": "stdout",
     "output_type": "stream",
     "text": [
      "TEST\n",
      "<__main__.SeveralWorldsButWaaaayToooooLoooong object at 0x000001A7078CB080>\n"
     ]
    }
   ],
   "source": [
    "# Class names in PascalCase\n",
    "# But this example is too long ;-)\n",
    "class SeveralWorldsButWaaaayToooooLoooong():\n",
    "    def __init__(self):\n",
    "        print(\"TEST\")\n",
    "    \n",
    "    # Function name in sneak_case\n",
    "    def i_am_a_function(self):\n",
    "        print(\"asdf\")\n",
    "\n",
    "# Variable names also in sneak_case; but at most three words ;-)\n",
    "several_worlds = SeveralWorldsButWaaaayToooooLoooong()\n",
    "\n",
    "print(several_worlds )"
   ]
  },
  {
   "cell_type": "code",
   "execution_count": null,
   "metadata": {
    "collapsed": true
   },
   "outputs": [],
   "source": []
  }
 ],
 "metadata": {
  "kernelspec": {
   "display_name": "Python 3",
   "language": "python",
   "name": "python3"
  },
  "language_info": {
   "codemirror_mode": {
    "name": "ipython",
    "version": 3
   },
   "file_extension": ".py",
   "mimetype": "text/x-python",
   "name": "python",
   "nbconvert_exporter": "python",
   "pygments_lexer": "ipython3",
   "version": "3.6.5"
  }
 },
 "nbformat": 4,
 "nbformat_minor": 2
}
