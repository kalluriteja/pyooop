{
 "cells": [
  {
   "cell_type": "markdown",
   "metadata": {},
   "source": [
    "## Object Orientation: Private Properties and Methods\n",
    "\n",
    "In this lesson you will learn:\n",
    "\n",
    "- What private characteristics are...\n",
    "- What private methods are...\n",
    "- ... and where / for what you should use them"
   ]
  },
  {
   "cell_type": "code",
   "execution_count": 25,
   "metadata": {},
   "outputs": [
    {
     "name": "stdout",
     "output_type": "stream",
     "text": [
      "doSomething\n",
      "2\n",
      "Eric Johnson (Semester: 2)\n"
     ]
    }
   ],
   "source": [
    "class Student():\n",
    "    \n",
    "    def __init__(self, firstname, lastname):\n",
    "        self.firstname = firstname\n",
    "        self.lastname = lastname\n",
    "        self.__term = 1\n",
    "                \n",
    "    def increase_term(self):\n",
    "        if self.__term >= 9:\n",
    "            return\n",
    "        self.__term = self.__term + 1\n",
    "    \n",
    "    def get_term(self):\n",
    "        self.__do_something()\n",
    "        return self.__term\n",
    "    \n",
    "    \n",
    "    def name(self):\n",
    "        print(self.firstname + \" \" + self.lastname + \" (Semester: \" + str(self.__term) + \")\")\n",
    "    \n",
    "    def __do_something(self):\n",
    "        print(\"doSomething\")\n",
    "    \n",
    "        \n",
    "eric = Student(\"Eric\", \"Johnson\")\n",
    "eric.increase_term()\n",
    "#eric.__term = 100\n",
    "#print(eric.__term)\n",
    "print(eric.get_term())\n",
    "#eric.__do_something()\n",
    "eric.name()\n"
   ]
  },
  {
   "cell_type": "markdown",
   "metadata": {
    "collapsed": true
   },
   "source": [
    "Since the __term variable starts with 2 underscores, this property is **private** and we cannot access it from outside:"
   ]
  },
  {
   "cell_type": "code",
   "execution_count": null,
   "metadata": {},
   "outputs": [],
   "source": []
  },
  {
   "cell_type": "code",
   "execution_count": null,
   "metadata": {
    "collapsed": true
   },
   "outputs": [],
   "source": []
  }
 ],
 "metadata": {
  "kernelspec": {
   "display_name": "Python 3",
   "language": "python",
   "name": "python3"
  },
  "language_info": {
   "codemirror_mode": {
    "name": "ipython",
    "version": 3
   },
   "file_extension": ".py",
   "mimetype": "text/x-python",
   "name": "python",
   "nbconvert_exporter": "python",
   "pygments_lexer": "ipython3",
   "version": "3.7.3"
  }
 },
 "nbformat": 4,
 "nbformat_minor": 2
}
