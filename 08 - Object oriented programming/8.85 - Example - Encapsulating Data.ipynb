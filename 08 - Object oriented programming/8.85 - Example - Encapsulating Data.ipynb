{
 "cells": [
  {
   "cell_type": "markdown",
   "metadata": {},
   "source": [
    "## Example: Encapsulating data\n",
    "\n",
    "In this lesson you will learn an example of why it can be worth encapsulating data with object orientation."
   ]
  },
  {
   "cell_type": "code",
   "execution_count": 1,
   "metadata": {},
   "outputs": [
    {
     "name": "stdout",
     "output_type": "stream",
     "text": [
      "None\n"
     ]
    }
   ],
   "source": [
    "class PhoneBook():\n",
    "    \n",
    "    def __init__(self):\n",
    "        self.__entries = {}\n",
    "        \n",
    "    # Only with the add method can we communicate with the Dictionary    \n",
    "    def add(self, name, phone_number):\n",
    "        self.__entries[name] = phone_number\n",
    "        \n",
    "    def get(self, name):\n",
    "        if name in self.__entries:\n",
    "            return self.__entries[name]\n",
    "        else:\n",
    "            return None\n",
    "        \n",
    "book = PhoneBook()\n",
    "book.add(\"Doe\", \"+4912345678\")\n",
    "book.add(\"Miller\", \"+49123456789\")\n",
    "\n",
    "print(book.get(\"Johnson\"))"
   ]
  },
  {
   "cell_type": "markdown",
   "metadata": {},
   "source": [
    "Advantage: Clear layout, prerequisite for building larger applications (modular)"
   ]
  },
  {
   "cell_type": "code",
   "execution_count": null,
   "metadata": {},
   "outputs": [],
   "source": []
  }
 ],
 "metadata": {
  "kernelspec": {
   "display_name": "Python 3",
   "language": "python",
   "name": "python3"
  },
  "language_info": {
   "codemirror_mode": {
    "name": "ipython",
    "version": 3
   },
   "file_extension": ".py",
   "mimetype": "text/x-python",
   "name": "python",
   "nbconvert_exporter": "python",
   "pygments_lexer": "ipython3",
   "version": "3.6.5"
  }
 },
 "nbformat": 4,
 "nbformat_minor": 2
}
