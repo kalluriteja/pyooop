{
 "cells": [
  {
   "cell_type": "markdown",
   "metadata": {},
   "source": [
    "## Quiz: Lists"
   ]
  },
  {
   "cell_type": "markdown",
   "metadata": {},
   "source": [
    "#### Question 1\n",
    "\n",
    "How can you define a list in python?\n",
    "\n",
    "- A) `{\"Ivanka\", \"Donald\"}`\n",
    "- B) `[\"Ivanka\", \"Donald\"]`\n",
    "- C) `[\"Ivanka\"; \"Donald\"]`\n",
    "- D) `(\"Ivanka\", \"Donald\")`"
   ]
  },
  {
   "cell_type": "markdown",
   "metadata": {
    "collapsed": true
   },
   "source": [
    "Correct answer: B"
   ]
  },
  {
   "cell_type": "markdown",
   "metadata": {},
   "source": [
    "#### Question 2\n",
    "\n",
    "How do you access the third element?\n",
    "\n",
    "```python\n",
    "firstnames = [\"Ivanka\", \"Donald\", \"Ivana\", \"Barron\"]\n",
    "```\n",
    "\n",
    "- A) `firstnames[0]`\n",
    "- B) `firstnames[1]`\n",
    "- C) `firstnames[2]`\n",
    "- D) `firstnames[3]`"
   ]
  },
  {
   "cell_type": "markdown",
   "metadata": {},
   "source": [
    "Correct answer: C"
   ]
  },
  {
   "cell_type": "markdown",
   "metadata": {},
   "source": [
    "#### Question 3\n",
    "\n",
    "How do you extend the list `wars` with a third element?\n",
    "\n",
    "```python\n",
    "wars = [1, 2]\n",
    "```\n",
    "\n",
    "- A) `wars.add(3)`\n",
    "- B) `wars[3] = 3`\n",
    "- C) `wars.apply(3)`\n",
    "- D) `wars.append(3)`"
   ]
  },
  {
   "cell_type": "markdown",
   "metadata": {},
   "source": [
    "Correct answer: D"
   ]
  },
  {
   "cell_type": "code",
   "execution_count": null,
   "metadata": {},
   "outputs": [],
   "source": []
  }
 ],
 "metadata": {
  "kernelspec": {
   "display_name": "Python 3",
   "language": "python",
   "name": "python3"
  },
  "language_info": {
   "codemirror_mode": {
    "name": "ipython",
    "version": 3
   },
   "file_extension": ".py",
   "mimetype": "text/x-python",
   "name": "python",
   "nbconvert_exporter": "python",
   "pygments_lexer": "ipython3",
   "version": "3.7.3"
  }
 },
 "nbformat": 4,
 "nbformat_minor": 2
}
