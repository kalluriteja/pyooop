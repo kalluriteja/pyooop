{
 "cells": [
  {
   "cell_type": "markdown",
   "metadata": {},
   "source": [
    "## Quiz: Number or String?"
   ]
  },
  {
   "cell_type": "markdown",
   "metadata": {},
   "source": [
    "#### Question 1\n",
    "\n",
    "```python\n",
    "v = \"Hello World\"\n",
    "print(v)\n",
    "```\n",
    "\n",
    "What type of variable is `v`?\n",
    "\n",
    "- A) String\n",
    "- B) Number"
   ]
  },
  {
   "cell_type": "markdown",
   "metadata": {},
   "source": [
    "Correct Answer: A"
   ]
  },
  {
   "cell_type": "markdown",
   "metadata": {},
   "source": [
    "#### Question 2\n",
    "\n",
    "```python\n",
    "v = 14\n",
    "print(v)\n",
    "```\n",
    "\n",
    "What type of variable is `v`?\n",
    "\n",
    "- A) String \n",
    "- B) Number"
   ]
  },
  {
   "cell_type": "code",
   "execution_count": null,
   "metadata": {
    "collapsed": true
   },
   "outputs": [],
   "source": [
    "Correct Answer: B"
   ]
  },
  {
   "cell_type": "markdown",
   "metadata": {},
   "source": [
    "#### Question 3\n",
    "\n",
    "```python\n",
    "v = str(14)\n",
    "print(v)\n",
    "```\n",
    "\n",
    "What type of variable is `v` ?\n",
    "\n",
    "- A) String\n",
    "- B) Number"
   ]
  },
  {
   "cell_type": "code",
   "execution_count": null,
   "metadata": {
    "collapsed": true
   },
   "outputs": [],
   "source": [
    "Correct Answer: A"
   ]
  },
  {
   "cell_type": "markdown",
   "metadata": {
    "collapsed": true
   },
   "source": [
    "#### Question 4\n",
    "\n",
    "Which of the following is a working and correct Python program, that doesn't create any errors when executing?\n",
    "\n",
    "- A) `print(\"your credit is \" & str(50) & \" Cent.\")`\n",
    "\n",
    "- B) `print(\"you have only \" + str(10) + \" dollars on your account.\")`\n",
    "\n",
    "- C) `print(\"you won have \" + 50000 + \" dollars\")`\n",
    "\n",
    "- D) `print(String(You have debt.)) `"
   ]
  },
  {
   "cell_type": "markdown",
   "metadata": {},
   "source": [
    "Correct Answer: B"
   ]
  }
 ],
 "metadata": {
  "kernelspec": {
   "display_name": "Python 3",
   "language": "python",
   "name": "python3"
  },
  "language_info": {
   "codemirror_mode": {
    "name": "ipython",
    "version": 3
   },
   "file_extension": ".py",
   "mimetype": "text/x-python",
   "name": "python",
   "nbconvert_exporter": "python",
   "pygments_lexer": "ipython3",
   "version": "3.6.5"
  }
 },
 "nbformat": 4,
 "nbformat_minor": 2
}
