{
 "cells": [
  {
   "cell_type": "markdown",
   "metadata": {},
   "source": [
    "## Quiz - Modules"
   ]
  },
  {
   "cell_type": "markdown",
   "metadata": {},
   "source": [
    "##### Task 1\n",
    "\n",
    "How do you integrate the `pandas` module?\n",
    "\n",
    "- A) `import pandas`\n",
    "- B) `pandas.import()`\n",
    "- C) `import pandas from zoo`\n",
    "- D) `__import(pandas)__`"
   ]
  },
  {
   "cell_type": "markdown",
   "metadata": {},
   "source": [
    "The right solution: A"
   ]
  },
  {
   "cell_type": "markdown",
   "metadata": {},
   "source": [
    "##### Task 2\n",
    "\n",
    "How do you call the `read_csv()`function from the `pandas` module after you have included the whole module with the `import` function?\n",
    "\n",
    "- A) `read_csv(pandas)`\n",
    "- B) `pandas.pandas.read_csv()`\n",
    "- C) `pandas: pandas.read_csv()`\n",
    "- D) `pandas.read_csv()`"
   ]
  },
  {
   "cell_type": "markdown",
   "metadata": {},
   "source": [
    "The right solution: D"
   ]
  },
  {
   "cell_type": "markdown",
   "metadata": {},
   "source": [
    "#### Task 3\n",
    "\n",
    "Which command do you need to include the `pandas` module to use the `read_csv()` and `read_excel()` functions directly from the module (like any function in standard python can call)?\n",
    "\n",
    "- A) `from pandas import read_csv(), read_excel()`\n",
    "- B) `from pandas import read_csv, read_excel`\n",
    "- C) `import read_csv(), read_excel() from pandas`\n",
    "- D) `import pandas.read_csv, import pandas.read_excel`"
   ]
  },
  {
   "cell_type": "markdown",
   "metadata": {},
   "source": [
    "The right solution: B"
   ]
  },
  {
   "cell_type": "markdown",
   "metadata": {},
   "source": [
    "##### Task 4\n",
    "\n",
    "How can you include the module `pandas` and rename the handle name so that you can use an abbreviation (here: `pd`) instead of the module name?\n",
    "\n",
    "- A) `import pandas(pd)`\n",
    "- B) `import pandas, pandas = pd`\n",
    "- C) `import pandas as pd`\n",
    "- D) `import pandas.pd`"
   ]
  },
  {
   "cell_type": "markdown",
   "metadata": {},
   "source": [
    "The right solution: C"
   ]
  },
  {
   "cell_type": "code",
   "execution_count": null,
   "metadata": {
    "collapsed": true
   },
   "outputs": [],
   "source": []
  }
 ],
 "metadata": {
  "kernelspec": {
   "display_name": "Python 3",
   "language": "python",
   "name": "python3"
  },
  "language_info": {
   "codemirror_mode": {
    "name": "ipython",
    "version": 3
   },
   "file_extension": ".py",
   "mimetype": "text/x-python",
   "name": "python",
   "nbconvert_exporter": "python",
   "pygments_lexer": "ipython3",
   "version": "3.6.5"
  }
 },
 "nbformat": 4,
 "nbformat_minor": 2
}
