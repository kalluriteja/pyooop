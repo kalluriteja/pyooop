{
 "cells": [
  {
   "cell_type": "markdown",
   "metadata": {},
   "source": [
    "# Introducing another module: CSV\n",
    "\n",
    "In this lesson you will learn how to:\n",
    "\n",
    "- use the Python Module index (https://docs.python.org/3/py-modindex.html)\n",
    "- with modules even more comfortable.csv files with the example of the CSV. "
   ]
  },
  {
   "cell_type": "code",
   "execution_count": 1,
   "metadata": {},
   "outputs": [
    {
     "name": "stdout",
     "output_type": "stream",
     "text": [
      "3.6.5 |Anaconda, Inc.| (default, Apr 26 2018, 08:42:37) \n",
      "[GCC 4.2.1 Compatible Clang 4.0.1 (tags/RELEASE_401/final)]\n"
     ]
    }
   ],
   "source": [
    "import sys\n",
    "print(sys.version)"
   ]
  },
  {
   "cell_type": "code",
   "execution_count": 3,
   "metadata": {},
   "outputs": [
    {
     "name": "stdout",
     "output_type": "stream",
     "text": [
      "['Name', 'PhoneNumber', 'Country']\n",
      "['Schmidt', '+49123456789', 'Germnay']\n",
      "['Varga', '+3612345678', 'Hungary']\n"
     ]
    }
   ],
   "source": [
    "import csv\n",
    "with open('file.csv', newline='') as file:\n",
    "    csv_file = csv.reader(file, delimiter=',')\n",
    "    for line in csv_file:\n",
    "        print(line)"
   ]
  },
  {
   "cell_type": "code",
   "execution_count": 8,
   "metadata": {},
   "outputs": [
    {
     "name": "stdout",
     "output_type": "stream",
     "text": [
      "['Schmidt', 'Hello World', 'Hello;World']\n",
      "['Varga', 'Hello World', 'Hello-World']\n"
     ]
    }
   ],
   "source": [
    "import csv\n",
    "with open('fromexcel.csv', newline='') as file:\n",
    "    csv_file = csv.reader(file, delimiter=';', quotechar ='\"' )\n",
    "    for line in csv_file:\n",
    "        print(line)"
   ]
  },
  {
   "cell_type": "code",
   "execution_count": null,
   "metadata": {},
   "outputs": [],
   "source": []
  }
 ],
 "metadata": {
  "kernelspec": {
   "display_name": "Python 3",
   "language": "python",
   "name": "python3"
  },
  "language_info": {
   "codemirror_mode": {
    "name": "ipython",
    "version": 3
   },
   "file_extension": ".py",
   "mimetype": "text/x-python",
   "name": "python",
   "nbconvert_exporter": "python",
   "pygments_lexer": "ipython3",
   "version": "3.6.5"
  }
 },
 "nbformat": 4,
 "nbformat_minor": 2
}
