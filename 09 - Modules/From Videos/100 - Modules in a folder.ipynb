{
 "cells": [
  {
   "cell_type": "markdown",
   "metadata": {},
   "source": [
    "## Modules and Folders\n",
    "\n",
    "In Python you also have the possibility to define modules with the help of a folder. \n",
    "\n",
    "In this lesson you will learn how to \n",
    "\n",
    "- How to define modules with the help of a folder, and thus structure your module better\n",
    "- What's up with the \\_\\__init\\_\\_.py"
   ]
  },
  {
   "cell_type": "code",
   "execution_count": 2,
   "metadata": {},
   "outputs": [
    {
     "name": "stdout",
     "output_type": "stream",
     "text": [
      "file.py and function f()\n"
     ]
    }
   ],
   "source": [
    "from hellom import file\n",
    "\n",
    "file.f()\n",
    "\n"
   ]
  },
  {
   "cell_type": "code",
   "execution_count": 1,
   "metadata": {},
   "outputs": [
    {
     "name": "stdout",
     "output_type": "stream",
     "text": [
      "file.py and function f()\n"
     ]
    }
   ],
   "source": [
    "from hellom import *\n",
    "file.f()"
   ]
  },
  {
   "cell_type": "code",
   "execution_count": 1,
   "metadata": {},
   "outputs": [
    {
     "name": "stdout",
     "output_type": "stream",
     "text": [
      "file.py and function f()\n"
     ]
    }
   ],
   "source": [
    "import hellom\n",
    "hellom.file.f()"
   ]
  },
  {
   "cell_type": "code",
   "execution_count": null,
   "metadata": {},
   "outputs": [],
   "source": []
  }
 ],
 "metadata": {
  "kernelspec": {
   "display_name": "Python 3",
   "language": "python",
   "name": "python3"
  },
  "language_info": {
   "codemirror_mode": {
    "name": "ipython",
    "version": 3
   },
   "file_extension": ".py",
   "mimetype": "text/x-python",
   "name": "python",
   "nbconvert_exporter": "python",
   "pygments_lexer": "ipython3",
   "version": "3.6.5"
  }
 },
 "nbformat": 4,
 "nbformat_minor": 2
}
