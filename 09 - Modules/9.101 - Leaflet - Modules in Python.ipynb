{
 "cells": [
  {
   "cell_type": "markdown",
   "metadata": {
    "collapsed": true
   },
   "source": [
    "## Modules in Python\n",
    "\n",
    "In Python you have the possibility to pack code into modules, which you can then use in different places.\n",
    "\n",
    "The file `hello.py` consists of the following content:\n",
    "\n",
    "```python\n",
    "# hello.py\n",
    "\n",
    "def world():\n",
    "    print(\"Hello World\")\n",
    "    \n",
    "def mars():\n",
    "    print(\"Hello Mars\")\n",
    "```"
   ]
  },
  {
   "cell_type": "markdown",
   "metadata": {},
   "source": [
    "How can we integrate this file now?"
   ]
  },
  {
   "cell_type": "code",
   "execution_count": 1,
   "metadata": {},
   "outputs": [
    {
     "name": "stdout",
     "output_type": "stream",
     "text": [
      "Hello World\n",
      "Hello Mars\n"
     ]
    }
   ],
   "source": [
    "import hello\n",
    "\n",
    "hello.world()\n",
    "hello.mars()"
   ]
  },
  {
   "cell_type": "code",
   "execution_count": 2,
   "metadata": {},
   "outputs": [
    {
     "name": "stdout",
     "output_type": "stream",
     "text": [
      "Hello World\n",
      "Hello Mars\n"
     ]
    }
   ],
   "source": [
    "from hello import world, mars\n",
    "\n",
    "world()\n",
    "mars()"
   ]
  },
  {
   "cell_type": "code",
   "execution_count": 3,
   "metadata": {
    "scrolled": true
   },
   "outputs": [
    {
     "name": "stdout",
     "output_type": "stream",
     "text": [
      "Hello World\n",
      "Hello Mars\n"
     ]
    }
   ],
   "source": [
    "from hello import *\n",
    "\n",
    "world()\n",
    "mars()"
   ]
  }
 ],
 "metadata": {
  "kernelspec": {
   "display_name": "Python 3",
   "language": "python",
   "name": "python3"
  },
  "language_info": {
   "codemirror_mode": {
    "name": "ipython",
    "version": 3
   },
   "file_extension": ".py",
   "mimetype": "text/x-python",
   "name": "python",
   "nbconvert_exporter": "python",
   "pygments_lexer": "ipython3",
   "version": "3.7.3"
  }
 },
 "nbformat": 4,
 "nbformat_minor": 2
}
