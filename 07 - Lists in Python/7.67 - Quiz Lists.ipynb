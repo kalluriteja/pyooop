{
 "cells": [
  {
   "cell_type": "markdown",
   "metadata": {},
   "source": [
    "## Quiz: Lists"
   ]
  },
  {
   "cell_type": "markdown",
   "metadata": {},
   "source": [
    "##### Question 1\n",
    "\n",
    "Which letter outputs the following program?\n",
    "\n",
    "```python\n",
    "print(\"Hello World\"[-2])\n",
    "```\n",
    "\n",
    "- A) `t`\n",
    "- B) `l`\n",
    "- C) `H`\n",
    "- D) `e`"
   ]
  },
  {
   "cell_type": "markdown",
   "metadata": {},
   "source": [
    "The right solution: B"
   ]
  },
  {
   "cell_type": "markdown",
   "metadata": {},
   "source": [
    "#### Question 2\n",
    "\n",
    "What does the following program output?\n",
    "\n",
    "```python\n",
    "print(\"John Doe\"[-3:])\n",
    "```\n",
    "\n",
    "- A) `John`\n",
    "- B) `Joh`\n",
    "- C) `John `\n",
    "- D) `Doe`"
   ]
  },
  {
   "cell_type": "markdown",
   "metadata": {},
   "source": [
    "The right solution: D"
   ]
  },
  {
   "cell_type": "markdown",
   "metadata": {},
   "source": [
    "#### Question 3\n",
    "\n",
    "What does the following program output?\n",
    "\n",
    "```python\n",
    "print(\"John Doe\"[:-3])\n",
    "```\n",
    "\n",
    "- A) `Joh`\n",
    "- B) ` Doe`\n",
    "- C) `John `\n",
    "- D) `Doe`"
   ]
  },
  {
   "cell_type": "markdown",
   "metadata": {},
   "source": [
    "The right solution: C"
   ]
  },
  {
   "cell_type": "markdown",
   "metadata": {},
   "source": [
    "#### Question 4\n",
    "\n",
    "What does the following program output?\n",
    "\n",
    "```python\n",
    "print(\"Hello World!\"[6:-1])\n",
    "```\n",
    "\n",
    "- A) `Whoot?`\n",
    "- B) `World`\n",
    "- C) `Hallo `\n",
    "- D) `lo World!`"
   ]
  },
  {
   "cell_type": "markdown",
   "metadata": {},
   "source": [
    "Richtige Lösung: B"
   ]
  },
  {
   "cell_type": "code",
   "execution_count": null,
   "metadata": {
    "collapsed": true
   },
   "outputs": [],
   "source": []
  },
  {
   "cell_type": "code",
   "execution_count": null,
   "metadata": {
    "collapsed": true
   },
   "outputs": [],
   "source": []
  }
 ],
 "metadata": {
  "kernelspec": {
   "display_name": "Python 3",
   "language": "python",
   "name": "python3"
  },
  "language_info": {
   "codemirror_mode": {
    "name": "ipython",
    "version": 3
   },
   "file_extension": ".py",
   "mimetype": "text/x-python",
   "name": "python",
   "nbconvert_exporter": "python",
   "pygments_lexer": "ipython3",
   "version": "3.6.5"
  }
 },
 "nbformat": 4,
 "nbformat_minor": 2
}
