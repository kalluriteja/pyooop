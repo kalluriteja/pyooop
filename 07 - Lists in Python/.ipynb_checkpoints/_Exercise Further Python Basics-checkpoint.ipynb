{
 "cells": [
  {
   "cell_type": "markdown",
   "metadata": {},
   "source": [
    "# Exercise further python basics"
   ]
  },
  {
   "cell_type": "markdown",
   "metadata": {},
   "source": [
    "### Alternative usernames\n",
    "Back to the magic online shop. This time functions, that suggest alternative usernames if the name of the new user is already in use, are desired."
   ]
  },
  {
   "cell_type": "markdown",
   "metadata": {},
   "source": [
    "##### a.) Abbreviated first names\n",
    "\n",
    "You should write a function to which two parameters are passed: a first name and a last name. The function should return a username with the first letter of the first name and, without spaces, the whole last name."
   ]
  },
  {
   "cell_type": "code",
   "execution_count": null,
   "metadata": {},
   "outputs": [],
   "source": [
    "def user_name(first, last):\n",
    "    # place your code here\n",
    "\n",
    "print(user_name(\"Willy\", \"Wizard\"))"
   ]
  },
  {
   "cell_type": "code",
   "execution_count": 2,
   "metadata": {},
   "outputs": [
    {
     "name": "stdout",
     "output_type": "stream",
     "text": [
      "WWizard\n"
     ]
    }
   ],
   "source": [
    "def user_name(first, last):\n",
    "    return first[0] + last\n",
    "\n",
    "print(user_name(\"Willy\", \"Wizard\"))"
   ]
  },
  {
   "cell_type": "markdown",
   "metadata": {},
   "source": [
    "##### b.) Forbidden characters\n",
    "\n",
    "Many users hang the number 666 on their user names out of faith. But so much magic disturbs the shop software! So if a username ends in 666, the number must be removed. Write a function that gets a name as parameter and returns it cleaned if necessary.\n",
    "\n",
    "Only 666 is forbidden, 66 and 6666 should be allowed."
   ]
  },
  {
   "cell_type": "code",
   "execution_count": null,
   "metadata": {},
   "outputs": [],
   "source": [
    "def legit_name(name):\n",
    "    # your code...\n",
    "    \n",
    "legit_name(\"Hexer666\")"
   ]
  },
  {
   "cell_type": "code",
   "execution_count": 1,
   "metadata": {},
   "outputs": [
    {
     "data": {
      "text/plain": [
       "'Hexer'"
      ]
     },
     "execution_count": 1,
     "metadata": {},
     "output_type": "execute_result"
    }
   ],
   "source": [
    "def legit_name(name):\n",
    "    if name[-3:] == \"666\":\n",
    "        return name[:-3]\n",
    "    else:\n",
    "        return name\n",
    "    \n",
    "legit_name(\"Hexer666\")"
   ]
  },
  {
   "cell_type": "markdown",
   "metadata": {},
   "source": [
    "##### c.) Numbered usernames\n",
    "In cases where the desired username ends with a number, the name with the next higher (whole) number should be suggested. Unless the last digit of the username is already a 9, then simply add a 1 to the existing username. Write a function that gets a string as parameter! You can assume that the string ends in a number. The function is to return a string in which the number from the output string has been increased by 1 or appended by 1.\n",
    "\n",
    "You can assume that only names that have already been checked for forbidden characters are to be edited with this function."
   ]
  },
  {
   "cell_type": "code",
   "execution_count": null,
   "metadata": {},
   "outputs": [],
   "source": [
    "def user_name(name):\n",
    "    # your code here...\n",
    "\n",
    "print(user_name(\"LilDevil669\"))"
   ]
  },
  {
   "cell_type": "code",
   "execution_count": 3,
   "metadata": {},
   "outputs": [
    {
     "name": "stdout",
     "output_type": "stream",
     "text": [
      "LilDevil6691\n"
     ]
    }
   ],
   "source": [
    "def user_name(name):\n",
    "    \n",
    "    number = int(name[-1])\n",
    "    \n",
    "    if number < 9:\n",
    "        number += 1\n",
    "        return name[:-1] + str(number)\n",
    "    else:\n",
    "         return name + str(1)\n",
    "        \n",
    "print(user_name(\"LilDevil669\"))"
   ]
  },
  {
   "cell_type": "markdown",
   "metadata": {},
   "source": [
    "##### d.) List of artificial words\n",
    "The math magician needs inspiration when naming new products! She gives you a list of strings and wishes you a list of artificial words on this basis. Such an artificial word is to be formed from a word from the list by omitting the first four letters of each word and hanging the word behind it again, but without the first and last two letters. \n",
    "\n",
    "You wonder if everything is still fine with the math magician and then set yourself the task of creating such a list with the funny artificial words as quickly as possible."
   ]
  },
  {
   "cell_type": "code",
   "execution_count": 4,
   "metadata": {},
   "outputs": [],
   "source": [
    "words = [\"Karten\", \"Mirror\", \"Plate\", \"Cup\", \"Bird\", \"Crowd\", \"Needle\"]"
   ]
  },
  {
   "cell_type": "code",
   "execution_count": null,
   "metadata": {},
   "outputs": [],
   "source": []
  },
  {
   "cell_type": "code",
   "execution_count": 5,
   "metadata": {},
   "outputs": [
    {
     "data": {
      "text/plain": [
       "['tenart', 'rorirr', 'tela', '', 'di', 'wdro', 'dleeed']"
      ]
     },
     "execution_count": 5,
     "metadata": {},
     "output_type": "execute_result"
    }
   ],
   "source": [
    "[i[3:] + i[1:-2] for i in words]"
   ]
  },
  {
   "cell_type": "markdown",
   "metadata": {},
   "source": [
    "### Well done :-)"
   ]
  }
 ],
 "metadata": {
  "kernelspec": {
   "display_name": "Python 3",
   "language": "python",
   "name": "python3"
  },
  "language_info": {
   "codemirror_mode": {
    "name": "ipython",
    "version": 3
   },
   "file_extension": ".py",
   "mimetype": "text/x-python",
   "name": "python",
   "nbconvert_exporter": "python",
   "pygments_lexer": "ipython3",
   "version": "3.6.5"
  }
 },
 "nbformat": 4,
 "nbformat_minor": 2
}
