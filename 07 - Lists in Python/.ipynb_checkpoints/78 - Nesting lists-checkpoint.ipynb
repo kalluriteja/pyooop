{
 "cells": [
  {
   "cell_type": "markdown",
   "metadata": {},
   "source": [
    "## Nesting lists\n",
    "\n",
    "In Python it is allowed to nest lists. This allows us to model a matrix, for example.\n",
    "\n",
    "In this lesson you will learn:\n",
    "\n",
    "- How to nest lists\n",
    "- and then access the elements accordingly."
   ]
  },
  {
   "cell_type": "code",
   "execution_count": 1,
   "metadata": {},
   "outputs": [],
   "source": [
    "liste = [\n",
    "    [\"New York\", \"Chicago\", \"Los Angeles\"],\n",
    "    [\"Budapest\", \"Pécs\", \"Sopron\"]\n",
    "]"
   ]
  },
  {
   "cell_type": "code",
   "execution_count": 2,
   "metadata": {},
   "outputs": [
    {
     "data": {
      "text/plain": [
       "'New York'"
      ]
     },
     "execution_count": 2,
     "metadata": {},
     "output_type": "execute_result"
    }
   ],
   "source": [
    "liste[0][0]"
   ]
  },
  {
   "cell_type": "markdown",
   "metadata": {},
   "source": [
    "## Lists in dictionaries"
   ]
  },
  {
   "cell_type": "code",
   "execution_count": 4,
   "metadata": {},
   "outputs": [
    {
     "name": "stdout",
     "output_type": "stream",
     "text": [
      "['Max', 'Monica']\n",
      "['Eric', 'Paula']\n"
     ]
    }
   ],
   "source": [
    "students = {\n",
    "    \"Informatics\": [\"Max\", \"Monica\"],\n",
    "    \"History\": [\"Eric\", \"Paula\"]\n",
    "}\n",
    "\n",
    "print(students[\"Informatics\"])\n",
    "print(students[\"History\"])"
   ]
  },
  {
   "cell_type": "code",
   "execution_count": null,
   "metadata": {
    "collapsed": true
   },
   "outputs": [],
   "source": []
  }
 ],
 "metadata": {
  "kernelspec": {
   "display_name": "Python 3",
   "language": "python",
   "name": "python3"
  },
  "language_info": {
   "codemirror_mode": {
    "name": "ipython",
    "version": 3
   },
   "file_extension": ".py",
   "mimetype": "text/x-python",
   "name": "python",
   "nbconvert_exporter": "python",
   "pygments_lexer": "ipython3",
   "version": "3.6.5"
  }
 },
 "nbformat": 4,
 "nbformat_minor": 2
}
