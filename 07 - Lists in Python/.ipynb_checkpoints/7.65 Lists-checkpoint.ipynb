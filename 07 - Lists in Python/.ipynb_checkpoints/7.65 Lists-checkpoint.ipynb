{
 "cells": [
  {
   "cell_type": "markdown",
   "metadata": {},
   "source": [
    "## Lists\n",
    "\n",
    "Lists allow you to directly save multiple entries at once. For example, here we have a list of 4 students:"
   ]
  },
  {
   "cell_type": "code",
   "execution_count": 1,
   "metadata": {},
   "outputs": [
    {
     "name": "stdout",
     "output_type": "stream",
     "text": [
      "Paula\n",
      "['Max', 'Monica', 'Eric']\n"
     ]
    }
   ],
   "source": [
    "students = [\"Max\", \"Monica\", \"Eric\", \"Paula\"]\n",
    "\n",
    "last_student = students.pop()\n",
    "print(last_student)\n",
    "print(students)"
   ]
  },
  {
   "cell_type": "markdown",
   "metadata": {},
   "source": [
    "With the `+` - operator you can link 2 lists with each other!"
   ]
  },
  {
   "cell_type": "code",
   "execution_count": 2,
   "metadata": {},
   "outputs": [
    {
     "name": "stdout",
     "output_type": "stream",
     "text": [
      "['Max', 'Monica', 'Eric', 'ABCDEF']\n"
     ]
    }
   ],
   "source": [
    "students = students + [\"ABCDEF\"]\n",
    "print(students)"
   ]
  },
  {
   "cell_type": "markdown",
   "metadata": {},
   "source": [
    "The `del` command removes an element from a list at a specific index. Indexes of lists start counting with 0."
   ]
  },
  {
   "cell_type": "code",
   "execution_count": 3,
   "metadata": {},
   "outputs": [
    {
     "name": "stdout",
     "output_type": "stream",
     "text": [
      "['Max', 'Monica', 'Eric', 'ABCDEF']\n"
     ]
    }
   ],
   "source": [
    "students = [\"Max\", \"Monica\", \"Eric\", \"Paula\", 'ABCDEF']\n",
    "del students[3]\n",
    "print(students)"
   ]
  },
  {
   "cell_type": "markdown",
   "metadata": {},
   "source": [
    "The `.remove()` - function removes an entry by value. In other words, the entry \"Monica\" is removed from the list here:"
   ]
  },
  {
   "cell_type": "code",
   "execution_count": 4,
   "metadata": {},
   "outputs": [
    {
     "name": "stdout",
     "output_type": "stream",
     "text": [
      "['Max', 'Erik', 'Franziska', 'ABCDEF']\n"
     ]
    }
   ],
   "source": [
    "students = [\"Max\", \"Monica\", \"Erik\", \"Franziska\", \"ABCDEF\"]\n",
    "students.remove(\"Monica\")\n",
    "print(students)"
   ]
  },
  {
   "cell_type": "code",
   "execution_count": null,
   "metadata": {
    "collapsed": true
   },
   "outputs": [],
   "source": []
  }
 ],
 "metadata": {
  "kernelspec": {
   "display_name": "Python 3",
   "language": "python",
   "name": "python3"
  },
  "language_info": {
   "codemirror_mode": {
    "name": "ipython",
    "version": 3
   },
   "file_extension": ".py",
   "mimetype": "text/x-python",
   "name": "python",
   "nbconvert_exporter": "python",
   "pygments_lexer": "ipython3",
   "version": "3.6.5"
  }
 },
 "nbformat": 4,
 "nbformat_minor": 2
}
