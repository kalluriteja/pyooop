{
 "cells": [
  {
   "cell_type": "markdown",
   "metadata": {},
   "source": [
    "## List Comprehensions\n",
    "\n",
    "In this lesson you will learn how to\n",
    "\n",
    "- list comprehensions\n",
    "- How it makes it easier to convert lists into a new list\n",
    "- And we use a List Comprehension to make it easier to draw a graphic"
   ]
  },
  {
   "cell_type": "code",
   "execution_count": 1,
   "metadata": {},
   "outputs": [
    {
     "name": "stdout",
     "output_type": "stream",
     "text": [
      "[1, 2, 3, 4, 5, 6, 7, 8]\n",
      "[1, 4, 9, 16, 25, 36, 49, 64]\n"
     ]
    }
   ],
   "source": [
    "xs = [1, 2, 3, 4, 5, 6, 7, 8]\n",
    "\n",
    "ys = [x * x for x in xs]\n",
    "# ys = []\n",
    "# for x in xs:\n",
    "#    ys.append(x * x)\n",
    "    \n",
    "print(xs)\n",
    "print(ys)"
   ]
  },
  {
   "cell_type": "markdown",
   "metadata": {},
   "source": [
    "### List Comprehensions can do much more!"
   ]
  },
  {
   "cell_type": "code",
   "execution_count": 2,
   "metadata": {},
   "outputs": [
    {
     "name": "stdout",
     "output_type": "stream",
     "text": [
      "[3, 6, 4, 5]\n"
     ]
    }
   ],
   "source": [
    "students = [\"Max\", \"Monica\", \"Eric\", \"Paula\"]\n",
    "\n",
    "lengths = [len(student) for student in students]\n",
    "\n",
    "#lengths = []\n",
    "#for student in students:\n",
    "#    lengths.append(len(student))\n",
    "    \n",
    "print(lengths)"
   ]
  },
  {
   "cell_type": "markdown",
   "metadata": {},
   "source": [
    "### Useful also for drawing graphics!"
   ]
  },
  {
   "cell_type": "code",
   "execution_count": 5,
   "metadata": {},
   "outputs": [],
   "source": [
    "%matplotlib inline\n",
    "import matplotlib.pyplot as plt"
   ]
  },
  {
   "cell_type": "code",
   "execution_count": 7,
   "metadata": {},
   "outputs": [
    {
     "name": "stdout",
     "output_type": "stream",
     "text": [
      "[0.0, 0.1, 0.2, 0.3, 0.4, 0.5, 0.6, 0.7, 0.8, 0.9, 1.0, 1.1, 1.2, 1.3, 1.4, 1.5, 1.6, 1.7, 1.8, 1.9, 2.0, 2.1, 2.2, 2.3, 2.4, 2.5, 2.6, 2.7, 2.8, 2.9, 3.0, 3.1, 3.2, 3.3, 3.4, 3.5, 3.6, 3.7, 3.8, 3.9, 4.0, 4.1, 4.2, 4.3, 4.4, 4.5, 4.6, 4.7, 4.8, 4.9, 5.0, 5.1, 5.2, 5.3, 5.4, 5.5, 5.6, 5.7, 5.8, 5.9, 6.0, 6.1, 6.2, 6.3, 6.4, 6.5, 6.6, 6.7, 6.8, 6.9, 7.0, 7.1, 7.2, 7.3, 7.4, 7.5, 7.6, 7.7, 7.8, 7.9, 8.0, 8.1, 8.2, 8.3, 8.4, 8.5, 8.6, 8.7, 8.8, 8.9, 9.0, 9.1, 9.2, 9.3, 9.4, 9.5, 9.6, 9.7, 9.8, 9.9]\n",
      "[0.0, 0.010000000000000002, 0.04000000000000001, 0.09, 0.16000000000000003, 0.25, 0.36, 0.48999999999999994, 0.6400000000000001, 0.81, 1.0, 1.2100000000000002, 1.44, 1.6900000000000002, 1.9599999999999997, 2.25, 2.5600000000000005, 2.8899999999999997, 3.24, 3.61, 4.0, 4.41, 4.840000000000001, 5.289999999999999, 5.76, 6.25, 6.760000000000001, 7.290000000000001, 7.839999999999999, 8.41, 9.0, 9.610000000000001, 10.240000000000002, 10.889999999999999, 11.559999999999999, 12.25, 12.96, 13.690000000000001, 14.44, 15.209999999999999, 16.0, 16.81, 17.64, 18.49, 19.360000000000003, 20.25, 21.159999999999997, 22.090000000000003, 23.04, 24.010000000000005, 25.0, 26.009999999999998, 27.040000000000003, 28.09, 29.160000000000004, 30.25, 31.359999999999996, 32.49, 33.64, 34.81, 36.0, 37.209999999999994, 38.440000000000005, 39.69, 40.96000000000001, 42.25, 43.559999999999995, 44.89, 46.239999999999995, 47.61000000000001, 49.0, 50.41, 51.84, 53.29, 54.760000000000005, 56.25, 57.76, 59.290000000000006, 60.839999999999996, 62.410000000000004, 64.0, 65.61, 67.24, 68.89000000000001, 70.56, 72.25, 73.96, 75.68999999999998, 77.44000000000001, 79.21000000000001, 81.0, 82.80999999999999, 84.63999999999999, 86.49000000000001, 88.36000000000001, 90.25, 92.16, 94.08999999999999, 96.04000000000002, 98.01]\n"
     ]
    },
    {
     "data": {
      "image/png": "[encoded data removed]",
      "text/plain": [
       "<Figure size 432x288 with 1 Axes>"
      ]
     },
     "metadata": {},
     "output_type": "display_data"
    }
   ],
   "source": [
    "xs = [x / 10 for x in range(0, 100)]\n",
    "ys = [x * x for x in xs]\n",
    "\n",
    "print(xs)\n",
    "print(ys)\n",
    "\n",
    "plt.plot(xs, ys)\n",
    "plt.show()"
   ]
  },
  {
   "cell_type": "code",
   "execution_count": null,
   "metadata": {
    "collapsed": true
   },
   "outputs": [],
   "source": []
  }
 ],
 "metadata": {
  "kernelspec": {
   "display_name": "Python 3",
   "language": "python",
   "name": "python3"
  },
  "language_info": {
   "codemirror_mode": {
    "name": "ipython",
    "version": 3
   },
   "file_extension": ".py",
   "mimetype": "text/x-python",
   "name": "python",
   "nbconvert_exporter": "python",
   "pygments_lexer": "ipython3",
   "version": "3.6.5"
  }
 },
 "nbformat": 4,
 "nbformat_minor": 2
}
