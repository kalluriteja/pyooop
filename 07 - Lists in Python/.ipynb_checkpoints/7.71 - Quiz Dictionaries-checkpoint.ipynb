{
 "cells": [
  {
   "cell_type": "markdown",
   "metadata": {},
   "source": [
    "## Quiz Dictionaries"
   ]
  },
  {
   "cell_type": "markdown",
   "metadata": {},
   "source": [
    "#### Question 1\n",
    "\n",
    "Which code defines a dictionary?\n",
    "\n",
    "- A) `[\"Trump\": \"USA\", \"Merkel\": \"Germany\"]`\n",
    "- B) `(\"Trump\": \"USA\", \"Merkel\": \"Germany\")`\n",
    "- C) `{\"Trump\", \"USA\", \"Merkel\", \"Germany\"}`\n",
    "- d) `{\"Trump\": \"USA\", \"Merkel\": \"Germany\"}`"
   ]
  },
  {
   "cell_type": "markdown",
   "metadata": {},
   "source": [
    "Correct answer: "
   ]
  },
  {
   "cell_type": "markdown",
   "metadata": {},
   "source": [
    "#### Question 2\n",
    "\n",
    "We have defined a dictionary as follows:\n",
    "\n",
    "```python\n",
    "d = {\"Trump\": \"USA\", \"Merkel\": \"Germany\"}\n",
    "```\n",
    "\n",
    "How do we access the first entry (Trump / USA)?\n",
    "\n",
    "- A) `print(d[\"Trump\"])`\n",
    "- B) `print(d[\"USA\"])`\n",
    "- C) `print(d[0])`\n",
    "- D) `print(d[1])`"
   ]
  },
  {
   "cell_type": "markdown",
   "metadata": {},
   "source": [
    "Correct answer: "
   ]
  },
  {
   "cell_type": "markdown",
   "metadata": {},
   "source": [
    "#### Question 3\n",
    "\n",
    "We have defined a dictionary as follows:\n",
    "\n",
    "```python\n",
    "d = {\"Trump\": \"USA\", \"Merkel\": \"Deutschland\"}\n",
    "```\n",
    "\n",
    "How do you check if the entry (Trump / USA) is contained in the Dictionary?\n",
    "\n",
    "- A) `0 in d`\n",
    "- B) `\"Trump\": \"USA\" in d`\n",
    "- C) `\"Trump\" in d`\n",
    "- D) `\"USA\" in d`"
   ]
  },
  {
   "cell_type": "markdown",
   "metadata": {},
   "source": [
    "Correct answer: "
   ]
  }
 ],
 "metadata": {
  "kernelspec": {
   "display_name": "Python 3",
   "language": "python",
   "name": "python3"
  },
  "language_info": {
   "codemirror_mode": {
    "name": "ipython",
    "version": 3
   },
   "file_extension": ".py",
   "mimetype": "text/x-python",
   "name": "python",
   "nbconvert_exporter": "python",
   "pygments_lexer": "ipython3",
   "version": "3.6.5"
  }
 },
 "nbformat": 4,
 "nbformat_minor": 2
}
