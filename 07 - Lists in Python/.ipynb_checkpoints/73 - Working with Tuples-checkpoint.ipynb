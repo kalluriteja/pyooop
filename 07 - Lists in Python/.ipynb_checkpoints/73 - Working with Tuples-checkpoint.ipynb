{
 "cells": [
  {
   "cell_type": "markdown",
   "metadata": {},
   "source": [
    "## Working with tuples\n",
    "\n",
    "In this lesson you will learn how to...\n",
    "\n",
    "- use tuples to model multiple return values of a function\n",
    "- unpack tuples"
   ]
  },
  {
   "cell_type": "code",
   "execution_count": 2,
   "metadata": {},
   "outputs": [
    {
     "name": "stdout",
     "output_type": "stream",
     "text": [
      "John Doe\n",
      "22\n",
      "Informatics\n"
     ]
    }
   ],
   "source": [
    "student = (\"John Doe\", 22, \"Informatics\")\n",
    "\n",
    "name, age, subject = student\n",
    "\n",
    "# name = student[0]\n",
    "# age = student[1]\n",
    "# subject = student[2]\n",
    "\n",
    "print(name)\n",
    "print(age)\n",
    "print(subject)"
   ]
  },
  {
   "cell_type": "code",
   "execution_count": 4,
   "metadata": {},
   "outputs": [
    {
     "name": "stdout",
     "output_type": "stream",
     "text": [
      "John Doe\n",
      "22\n",
      "Informatics\n"
     ]
    }
   ],
   "source": [
    "def get_student():\n",
    "    return (\"John Doe\", 22, \"Informatics\")\n",
    "\n",
    "name, age, student = get_student()\n",
    "\n",
    "print(name)\n",
    "print(age)\n",
    "print(subject)"
   ]
  },
  {
   "cell_type": "code",
   "execution_count": 5,
   "metadata": {},
   "outputs": [
    {
     "name": "stdout",
     "output_type": "stream",
     "text": [
      "John Doe\n",
      "22\n",
      "Frank Johnson\n",
      "23\n"
     ]
    }
   ],
   "source": [
    "students = [\n",
    "    (\"John Doe\", 22),\n",
    "    (\"Frank Johnson\", 23)\n",
    "]\n",
    "\n",
    "for name, age in students:\n",
    "    print(name)\n",
    "    print(age)\n"
   ]
  },
  {
   "cell_type": "code",
   "execution_count": null,
   "metadata": {
    "collapsed": true
   },
   "outputs": [],
   "source": []
  }
 ],
 "metadata": {
  "kernelspec": {
   "display_name": "Python 3",
   "language": "python",
   "name": "python3"
  },
  "language_info": {
   "codemirror_mode": {
    "name": "ipython",
    "version": 3
   },
   "file_extension": ".py",
   "mimetype": "text/x-python",
   "name": "python",
   "nbconvert_exporter": "python",
   "pygments_lexer": "ipython3",
   "version": "3.6.5"
  }
 },
 "nbformat": 4,
 "nbformat_minor": 2
}
