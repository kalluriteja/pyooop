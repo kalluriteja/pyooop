{
 "cells": [
  {
   "cell_type": "markdown",
   "metadata": {},
   "source": [
    "## Exercise: Dictionaries"
   ]
  },
  {
   "cell_type": "markdown",
   "metadata": {},
   "source": [
    "**Task:**\n",
    "\n",
    "Read the ../data/names.csv file and calculate which name was assigned most often in the whole USA! \n"
   ]
  },
  {
   "cell_type": "code",
   "execution_count": 1,
   "metadata": {
    "scrolled": true
   },
   "outputs": [],
   "source": [
    "file = open(\"../data/names.csv\", \"r\")\n",
    "\n",
    "names = {}\n",
    "\n",
    "for line in file:\n",
    "    splitted = line.strip().split(\",\")\n",
    "    if splitted[0] == \"Id\":\n",
    "        continue\n",
    "        \n",
    "    name = splitted[1]\n",
    "    count = int(splitted[5])\n",
    "    \n",
    "    if name in names:\n",
    "        names[name] = names[name] + count\n",
    "    else:\n",
    "        names[name] = count"
   ]
  },
  {
   "cell_type": "code",
   "execution_count": 2,
   "metadata": {},
   "outputs": [
    {
     "name": "stdout",
     "output_type": "stream",
     "text": [
      "James\n"
     ]
    }
   ],
   "source": [
    "max_occurences = 0\n",
    "name = \"\"\n",
    "\n",
    "for key, value in names.items():\n",
    "    if max_occurences < value:\n",
    "        max_occurences = value\n",
    "        name = key\n",
    "        \n",
    "print(name)"
   ]
  },
  {
   "cell_type": "code",
   "execution_count": null,
   "metadata": {
    "collapsed": true
   },
   "outputs": [],
   "source": []
  }
 ],
 "metadata": {
  "kernelspec": {
   "display_name": "Python 3",
   "language": "python",
   "name": "python3"
  },
  "language_info": {
   "codemirror_mode": {
    "name": "ipython",
    "version": 3
   },
   "file_extension": ".py",
   "mimetype": "text/x-python",
   "name": "python",
   "nbconvert_exporter": "python",
   "pygments_lexer": "ipython3",
   "version": "3.6.5"
  }
 },
 "nbformat": 4,
 "nbformat_minor": 2
}
