{
 "cells": [
  {
   "cell_type": "markdown",
   "metadata": {},
   "source": [
    "## Exercise!\n",
    "\n",
    "Find out how often the name \"Max\" was given as a male first name in California between 1950 and 2000 (both inclusive)! Use the provided .csv file (../data/names.csv)!"
   ]
  },
  {
   "cell_type": "code",
   "execution_count": 1,
   "metadata": {},
   "outputs": [
    {
     "name": "stdout",
     "output_type": "stream",
     "text": [
      "6385\n"
     ]
    }
   ],
   "source": [
    "occurences = 0\n",
    "\n",
    "with open(\"../data/names.csv\", \"r\") as file:\n",
    "    for line in file:\n",
    "        splitted = line.strip().split(\",\")\n",
    "        \n",
    "        if splitted[2] == \"Year\":\n",
    "            continue\n",
    "        \n",
    "        year = int(splitted[2])\n",
    "        \n",
    "        if splitted[1] == \"Max\" and year >= 1950 and year <= 2000 and splitted[3] == \"M\" and splitted[4] == \"CA\":\n",
    "            occurences = occurences + int(splitted[5])\n",
    "           \n",
    "print(occurences)"
   ]
  },
  {
   "cell_type": "code",
   "execution_count": null,
   "metadata": {
    "collapsed": true
   },
   "outputs": [],
   "source": []
  },
  {
   "cell_type": "code",
   "execution_count": null,
   "metadata": {
    "collapsed": true
   },
   "outputs": [],
   "source": []
  }
 ],
 "metadata": {
  "kernelspec": {
   "display_name": "Python 3",
   "language": "python",
   "name": "python3"
  },
  "language_info": {
   "codemirror_mode": {
    "name": "ipython",
    "version": 3
   },
   "file_extension": ".py",
   "mimetype": "text/x-python",
   "name": "python",
   "nbconvert_exporter": "python",
   "pygments_lexer": "ipython3",
   "version": "3.6.5"
  }
 },
 "nbformat": 4,
 "nbformat_minor": 2
}
