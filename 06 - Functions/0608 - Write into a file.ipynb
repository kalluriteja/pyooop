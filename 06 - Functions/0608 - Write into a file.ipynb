{
 "cells": [
  {
   "cell_type": "markdown",
   "metadata": {},
   "source": [
    "# Writing something into a text file"
   ]
  },
  {
   "cell_type": "code",
   "execution_count": 2,
   "metadata": {},
   "outputs": [],
   "source": [
    "# We open a file to write (\"w\": write)\n",
    "file = open(\"write.txt\", \"w\")\n",
    "\n",
    "students = [\"Max\", \"Monica\", \"Eric\", \"Paula\"]\n",
    "\n",
    "# We loop through the students list with a for loop\n",
    "for student in students:\n",
    "    # Using the write method, we write the current string student and a line break to the file object\n",
    "    file.write(student + \"\\n\")\n",
    "\n",
    "# Finally we have to close the file again\n",
    "file.close()"
   ]
  }
 ],
 "metadata": {
  "kernelspec": {
   "display_name": "Python 3",
   "language": "python",
   "name": "python3"
  },
  "language_info": {
   "codemirror_mode": {
    "name": "ipython",
    "version": 3
   },
   "file_extension": ".py",
   "mimetype": "text/x-python",
   "name": "python",
   "nbconvert_exporter": "python",
   "pygments_lexer": "ipython3",
   "version": "3.6.5"
  }
 },
 "nbformat": 4,
 "nbformat_minor": 2
}
