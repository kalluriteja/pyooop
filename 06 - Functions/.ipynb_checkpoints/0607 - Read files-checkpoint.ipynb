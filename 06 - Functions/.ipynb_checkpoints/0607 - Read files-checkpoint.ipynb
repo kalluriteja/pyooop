{
 "cells": [
  {
   "cell_type": "markdown",
   "metadata": {},
   "source": [
    "# Read a txt file and output its contents"
   ]
  },
  {
   "cell_type": "code",
   "execution_count": 2,
   "metadata": {},
   "outputs": [
    {
     "name": "stdout",
     "output_type": "stream",
     "text": [
      "Hello World 123!!!\n",
      "I am a new line!\n"
     ]
    }
   ],
   "source": [
    "# We open the file read.txt for reading (\"r\") and save its contents into the variable file\n",
    "file = open(\"read.txt\", \"r\")\n",
    "\n",
    "# We'll go through each line\n",
    "# In the txt file there are line break characters that are not visible to us, which mark the end of a line\n",
    "for line in file:\n",
    "    # Print a line without line break\n",
    "    print(line.strip())"
   ]
  },
  {
   "cell_type": "code",
   "execution_count": null,
   "metadata": {
    "collapsed": true
   },
   "outputs": [],
   "source": []
  }
 ],
 "metadata": {
  "kernelspec": {
   "display_name": "Python 3",
   "language": "python",
   "name": "python3"
  },
  "language_info": {
   "codemirror_mode": {
    "name": "ipython",
    "version": 3
   },
   "file_extension": ".py",
   "mimetype": "text/x-python",
   "name": "python",
   "nbconvert_exporter": "python",
   "pygments_lexer": "ipython3",
   "version": "3.6.5"
  }
 },
 "nbformat": 4,
 "nbformat_minor": 2
}
