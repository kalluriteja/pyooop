{
 "cells": [
  {
   "cell_type": "markdown",
   "metadata": {},
   "source": [
    "# Final exercise about functions"
   ]
  },
  {
   "cell_type": "markdown",
   "metadata": {},
   "source": [
    "Take your time to complete the tasks carefully. :-) Good luck!"
   ]
  },
  {
   "cell_type": "markdown",
   "metadata": {},
   "source": [
    "### A functional online shop\n",
    "The math magician wants to convert her online shop to functions. So there's a lot of work waiting for you. "
   ]
  },
  {
   "cell_type": "markdown",
   "metadata": {},
   "source": [
    "##### a.) Write a function that calculates the total price of the products in the shopping cart!\n",
    "Complete the function list_sum(), to which a list with the prices is passed as an argument. The function should then output the sum of the numbers from the list."
   ]
  },
  {
   "cell_type": "code",
   "execution_count": 2,
   "metadata": {},
   "outputs": [
    {
     "name": "stdout",
     "output_type": "stream",
     "text": [
      "63.95\n"
     ]
    }
   ],
   "source": [
    "cart_prices = [20, 3.5, 6.49, 8.99, 9.99, 14.98]\n",
    "\n",
    "def list_sum(l):\n",
    "    total = 0\n",
    "    for i in l:\n",
    "        total = total + i\n",
    "    print(total)\n",
    "    # or just write: print(sum(l))\n",
    "\n",
    "list_sum(cart_prices)"
   ]
  },
  {
   "cell_type": "markdown",
   "metadata": {},
   "source": [
    "The following output is expected: `63.95`."
   ]
  },
  {
   "cell_type": "markdown",
   "metadata": {},
   "source": [
    "##### b.) Write a function that creates a price table for an item!\n",
    "\n",
    "Now the math magician wants a function to which she can pass an item name and the sales price. From this, the function has to print a list of the sum of one, two, three,... up to ten units prices. Each element in the list should look like this: \"Number x articles: Price\".\n",
    "\n",
    "You're just wondering about the math magician's demands for short time."
   ]
  },
  {
   "cell_type": "code",
   "execution_count": 3,
   "metadata": {},
   "outputs": [
    {
     "name": "stdout",
     "output_type": "stream",
     "text": [
      "['1 x Cookie: 0.79', '2 x Cookie: 1.58', '3 x Cookie: 2.37', '4 x Cookie: 3.16', '5 x Cookie: 3.95', '6 x Cookie: 4.74', '7 x Cookie: 5.53', '8 x Cookie: 6.32', '9 x Cookie: 7.11', '10 x Cookie: 7.9']\n"
     ]
    }
   ],
   "source": [
    "def prices_list(name, price):\n",
    "    l = []\n",
    "    for i in range(1, 11):\n",
    "        l.append(str(i) + \" x \" + name + \": \" + str(price * i))\n",
    "    return l\n",
    "\n",
    "print(prices_list(\"Cookie\", 0.79))"
   ]
  },
  {
   "cell_type": "markdown",
   "metadata": {},
   "source": [
    "The following output is expected (does not have to have colors):\n",
    "\n",
    "```python\n",
    "1 x Cookies: 0.79', '2 x Cookies: 1.58', '3 x Cookies': 2.37.', '4 x Cookies: 3.16', '5 x Cookies: 3.95.', '6 x Cookies: 4.74', '7 x Cookies: 5.53', '8 x Cookies: 6.32', '9 x Cookies: 7.11', '10 x Cookies: 7.9']\n",
    "```"
   ]
  },
  {
   "cell_type": "markdown",
   "metadata": {},
   "source": [
    "##### c.) Write a function that fills the lists with the articles!\n",
    "\n",
    "From now on, a function should also put the goods on the virtual shelves, i.e. put them in the first, still empty position in the _shelf_ list. The article should be passed to the function `add_shelf()` as argument. The function then updates the `shelf` list, and the new article was placed in the first empty shelf. "
   ]
  },
  {
   "cell_type": "code",
   "execution_count": 5,
   "metadata": {},
   "outputs": [
    {
     "name": "stdout",
     "output_type": "stream",
     "text": [
      "['Magic Mirror', \"Rubik's Cube\", 'Cookie', 'Book with Magic Tricks', 'empty']\n"
     ]
    }
   ],
   "source": [
    "shelf = [\"Magic Mirror\", \"empty\", \"Cookie\", \"Book with Magic Tricks\", \"empty\"]\n",
    "\n",
    "def add_shelf(article):\n",
    "    for i in range(0, len(shelf)):\n",
    "        if shelf[i] == \"empty\":\n",
    "            shelf[i] = article\n",
    "            break\n",
    "    \n",
    "add_shelf(\"Rubik's Cube\")\n",
    "print(shelf)"
   ]
  },
  {
   "cell_type": "markdown",
   "metadata": {},
   "source": [
    "The following output is expected (need not be colored):\n",
    "\n",
    "```python\n",
    "['Magic Mirror',\"Rubik's Cube\",'Cookie','Book with Magic Tricks','empty']\n",
    "```"
   ]
  },
  {
   "cell_type": "markdown",
   "metadata": {},
   "source": [
    "### Good work :-)"
   ]
  }
 ],
 "metadata": {
  "kernelspec": {
   "display_name": "Python 3",
   "language": "python",
   "name": "python3"
  },
  "language_info": {
   "codemirror_mode": {
    "name": "ipython",
    "version": 3
   },
   "file_extension": ".py",
   "mimetype": "text/x-python",
   "name": "python",
   "nbconvert_exporter": "python",
   "pygments_lexer": "ipython3",
   "version": "3.6.5"
  }
 },
 "nbformat": 4,
 "nbformat_minor": 2
}
