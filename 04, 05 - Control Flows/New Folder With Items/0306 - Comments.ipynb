{
 "cells": [
  {
   "cell_type": "markdown",
   "metadata": {},
   "source": [
    "## Comments in Python\n",
    "In this lecture you learn:\n",
    "- how to use comments in python"
   ]
  },
  {
   "cell_type": "code",
   "execution_count": 5,
   "metadata": {},
   "outputs": [
    {
     "name": "stdout",
     "output_type": "stream",
     "text": [
      "Hi Mercury\n",
      "Hi Venus\n",
      "Hi Earth\n",
      "Hi Mars\n",
      "Hi Jupiter\n",
      "Hi Saturn\n",
      "Hi Neptune\n",
      "Hi Uranus\n"
     ]
    }
   ],
   "source": [
    "# This code says hi to all the planets in our solar system\n",
    "print(\"Hi Mercury\")\n",
    "print(\"Hi Venus\")\n",
    "print(\"Hi Earth\")\n",
    "print(\"Hi Mars\")\n",
    "print(\"Hi Jupiter\")\n",
    "print(\"Hi Saturn\")\n",
    "print(\"Hi Neptune\")\n",
    "print(\"Hi Uranus\")\n",
    "#print(\"Hi Pluto\")"
   ]
  },
  {
   "cell_type": "code",
   "execution_count": null,
   "metadata": {},
   "outputs": [],
   "source": []
  }
 ],
 "metadata": {
  "kernelspec": {
   "display_name": "Python 3",
   "language": "python",
   "name": "python3"
  },
  "language_info": {
   "codemirror_mode": {
    "name": "ipython",
    "version": 3
   },
   "file_extension": ".py",
   "mimetype": "text/x-python",
   "name": "python",
   "nbconvert_exporter": "python",
   "pygments_lexer": "ipython3",
   "version": "3.6.5"
  }
 },
 "nbformat": 4,
 "nbformat_minor": 2
}
