{
 "cells": [
  {
   "cell_type": "markdown",
   "metadata": {},
   "source": [
    "# Conclusion of control structures"
   ]
  },
  {
   "cell_type": "markdown",
   "metadata": {},
   "source": [
    "Take the time to complete the tasks carefully. :-) Good luck!\n",
    "\n",
    "When you have finished this exercise sheet, you can use the sample solution in text form (File: `Closure Control Structures (Sample Solution)`). \n",
    "\n",
    "The video sample solution (in the next lesson) is particularly detailed. If you have solved everything correctly, it is perfectly okay if you skip this lesson then."
   ]
  },
  {
   "cell_type": "markdown",
   "metadata": {},
   "source": [
    "### 1st task: Continents \n",
    "\n",
    "##### a.) Output all continents from the _continents_ list one after the other."
   ]
  },
  {
   "cell_type": "code",
   "execution_count": 4,
   "metadata": {},
   "outputs": [
    {
     "name": "stdout",
     "output_type": "stream",
     "text": [
      "Africa\n",
      "Antarctica\n",
      "Asia\n",
      "Australia and Oceania\n",
      "Europe\n",
      "North America\n",
      "South America\n"
     ]
    }
   ],
   "source": [
    "continents = [\"Africa\", \"Antarctica\", \"Asia\", \"Australia and Oceania\", \"Europe\", \"North America\", \"South America\"]\n",
    "\n",
    "for i in continents:\n",
    "    print(i)"
   ]
  },
  {
   "cell_type": "markdown",
   "metadata": {},
   "source": [
    "Desired output:\n",
    "\n",
    "```\n",
    "Africa\n",
    "Antarctica\n",
    "Asia\n",
    "Australia and Oceania\n",
    "Europe\n",
    "North America\n",
    "South America\n",
    "```"
   ]
  },
  {
   "cell_type": "markdown",
   "metadata": {},
   "source": [
    "#### b.) Output only the inhabited continents from the _continents_ list.\n",
    "\n",
    "**Note:**: Antarctica is uninhabited. So you can skip this continent at the output."
   ]
  },
  {
   "cell_type": "code",
   "execution_count": 5,
   "metadata": {},
   "outputs": [
    {
     "name": "stdout",
     "output_type": "stream",
     "text": [
      "Africa\n",
      "Antarctica\n",
      "Asia\n",
      "Australia and Oceania\n",
      "Europe\n",
      "North America\n",
      "South America\n"
     ]
    }
   ],
   "source": [
    "for continent in continents:\n",
    "    if continent == \"Antarctica\":\n",
    "        continue\n",
    "    print(continent)"
   ]
  },
  {
   "cell_type": "markdown",
   "metadata": {},
   "source": [
    "Desired output:\n",
    "\n",
    "```\n",
    "Africa\n",
    "Asia\n",
    "Australia and Oceania\n",
    "Europe\n",
    "North America\n",
    "South America\n",
    "```"
   ]
  },
  {
   "cell_type": "markdown",
   "metadata": {},
   "source": [
    "#### c.) Output only the continents from the _stuff_ list.\n",
    "\n",
    "You can loop through the list `stuff` and then use the variable `continents` to check if an element of the list `stuff` also appears in the list `continents`."
   ]
  },
  {
   "cell_type": "code",
   "execution_count": 7,
   "metadata": {},
   "outputs": [],
   "source": [
    "stuff = [\"Asia\", \"Max\", 101, \"Monika\", \"China\", \"Simbabwe\", \"Antarctica\"]"
   ]
  },
  {
   "cell_type": "code",
   "execution_count": 8,
   "metadata": {},
   "outputs": [
    {
     "name": "stdout",
     "output_type": "stream",
     "text": [
      "Asia\n",
      "Antarctica\n"
     ]
    }
   ],
   "source": [
    "for element in stuff:\n",
    "    if element in continents:\n",
    "        print(element)"
   ]
  },
  {
   "cell_type": "markdown",
   "metadata": {},
   "source": [
    "Desired output:\n",
    "\n",
    "```\n",
    "Asia\n",
    "Antarctica\n",
    "```"
   ]
  },
  {
   "cell_type": "markdown",
   "metadata": {},
   "source": [
    "#### d.) How many continents are included in the list `stuff`?\n",
    "\n",
    "Write a loop to count the number of continents in the _stuff_ list and then output this value."
   ]
  },
  {
   "cell_type": "code",
   "execution_count": 9,
   "metadata": {},
   "outputs": [
    {
     "name": "stdout",
     "output_type": "stream",
     "text": [
      "2\n"
     ]
    }
   ],
   "source": [
    "count = 0\n",
    "\n",
    "for i in stuff:\n",
    "    if i in continents:\n",
    "        count = count + 1\n",
    "print(count)    "
   ]
  },
  {
   "cell_type": "code",
   "execution_count": 10,
   "metadata": {},
   "outputs": [
    {
     "name": "stdout",
     "output_type": "stream",
     "text": [
      "2\n"
     ]
    }
   ],
   "source": [
    "# Alternatively\n",
    "contis = []\n",
    "\n",
    "for i in stuff:\n",
    "    if i in continents:\n",
    "        contis.append(i)\n",
    "        \n",
    "print(len(contis))    "
   ]
  },
  {
   "cell_type": "markdown",
   "metadata": {},
   "source": [
    "Desired output:\n",
    "\n",
    "```\n",
    "2 \n",
    "```"
   ]
  },
  {
   "cell_type": "markdown",
   "metadata": {},
   "source": [
    "### 2nd task: Discount campaign\n",
    "\n",
    "Back to the mathemagician: She wants to start a discount campaign in her shop to boost her business. Of course, she has something to program for you again. You should simplify the calculation of the reduced prices with an if-elif-else structure.\n",
    "\n",
    "Note the following:\n",
    "\n",
    "Items costing between 0 and 20 thalers (inclusive) will be reduced by 20%; items costing between 20 (not inclusive) and 50 thalers (inclusive) will be reduced by 40%. All other items, i.e. items costing more than 50 thalers, will be reduced by 60%.\n",
    "\n",
    "##### a.) Output the new discounted price for the _price_ variable."
   ]
  },
  {
   "cell_type": "code",
   "execution_count": 11,
   "metadata": {},
   "outputs": [
    {
     "name": "stdout",
     "output_type": "stream",
     "text": [
      "30.0\n"
     ]
    }
   ],
   "source": [
    "price = 50\n",
    "\n",
    "if price <= 20:\n",
    "    price = price * 0.8\n",
    "elif price <=50:\n",
    "    price = price * 0.6\n",
    "else:\n",
    "    price = price * 0.4\n",
    "\n",
    "print(price)"
   ]
  },
  {
   "cell_type": "markdown",
   "metadata": {},
   "source": [
    "Desired output: \n",
    "```\n",
    "30.0\n",
    "```"
   ]
  },
  {
   "cell_type": "markdown",
   "metadata": {},
   "source": [
    "#### b.) Now calculate for each of the old prices from the _prices_ list the appropriate reduced prices and save them in the new_prices list. Finally output this list."
   ]
  },
  {
   "cell_type": "code",
   "execution_count": 12,
   "metadata": {},
   "outputs": [
    {
     "name": "stdout",
     "output_type": "stream",
     "text": [
      "[1.6, 30.0, 28.0, 18.0]\n"
     ]
    }
   ],
   "source": [
    "prices = [2, 50, 70, 30]\n",
    "new_prices = []\n",
    "\n",
    "for price in prices:\n",
    "    if price <= 20:\n",
    "        price = price * 0.8\n",
    "    elif price <=50:\n",
    "        price = price * 0.6\n",
    "    else:\n",
    "        price = price * 0.4\n",
    "    \n",
    "    new_prices.append(price)\n",
    "\n",
    "print(new_prices)  "
   ]
  },
  {
   "cell_type": "markdown",
   "metadata": {},
   "source": [
    "Desired output: \n",
    "```python\n",
    "[1.6, 30.0, 28.0, 18.0]\n",
    "```"
   ]
  },
  {
   "cell_type": "markdown",
   "metadata": {},
   "source": [
    "#### c.) Additional task (difficult!)\n",
    "Now the mathematician presents you with trembling hands with the list _chaos_, in which new and old prizes are mixed! In the face of this ill-considered work, you clench your hands in front of your head, but it doesn't help: Only you can restore order here by bringing together everything you have already learned!\n",
    "\n",
    "Scroll through the items in the _chaos_ list. With a new price, simply drag the new value from the string and append it to the _order_ list. With an old price, however, you get the old value, calculate the new price and add this value to the _order_ list.\n",
    "\n",
    "Finally, output the complete _order_ list, which only contains new prices (and only numbers!).\n",
    "\n",
    "Tip: With the `in` operator you can check if `old` or `new` appears in a list item (`old\" in \"old price: 123\"`) and decide if you want to make the discount or not."
   ]
  },
  {
   "cell_type": "code",
   "execution_count": 13,
   "metadata": {},
   "outputs": [
    {
     "name": "stdout",
     "output_type": "stream",
     "text": [
      "[24.0, 21, 17.4, 30.0, 101]\n"
     ]
    }
   ],
   "source": [
    "chaos =[\"old price: 40\", \"new price: 21\", \"old price: 29\", \"old price: 50\", \"new price: 101\"]\n",
    "order = []\n",
    "\n",
    "for i in chaos:\n",
    "    \n",
    "    price = int((i.split(\": \")[1]))\n",
    "    \n",
    "    if \"old\" in i:\n",
    "        if price <= 20:\n",
    "            price *= 0.8\n",
    "        elif price <=50:\n",
    "            price *= 0.6\n",
    "        else:\n",
    "            price *= 0.4\n",
    "\n",
    "    order.append(price)\n",
    "        \n",
    "print(order)"
   ]
  },
  {
   "cell_type": "markdown",
   "metadata": {},
   "source": [
    "Desired output: \n",
    "\n",
    "```python\n",
    "[24.0, 21, 17.4, 30.0, 101]\n",
    "```"
   ]
  },
  {
   "cell_type": "markdown",
   "metadata": {},
   "source": [
    "### Yeah, good job! :-)"
   ]
  },
  {
   "cell_type": "code",
   "execution_count": null,
   "metadata": {},
   "outputs": [],
   "source": []
  }
 ],
 "metadata": {
  "kernelspec": {
   "display_name": "Python 3",
   "language": "python",
   "name": "python3"
  },
  "language_info": {
   "codemirror_mode": {
    "name": "ipython",
    "version": 3
   },
   "file_extension": ".py",
   "mimetype": "text/x-python",
   "name": "python",
   "nbconvert_exporter": "python",
   "pygments_lexer": "ipython3",
   "version": "3.7.3"
  }
 },
 "nbformat": 4,
 "nbformat_minor": 2
}
