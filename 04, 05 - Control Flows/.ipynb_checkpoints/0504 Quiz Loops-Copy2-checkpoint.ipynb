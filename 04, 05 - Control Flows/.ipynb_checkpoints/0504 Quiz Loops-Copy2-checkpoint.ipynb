{
 "cells": [
  {
   "cell_type": "markdown",
   "metadata": {},
   "source": [
    "## Quiz: Loops"
   ]
  },
  {
   "cell_type": "markdown",
   "metadata": {},
   "source": [
    "#### Task 1\n",
    "\n",
    "How do you check if the `\"Hit\"` element is included in the following list?\n",
    "\n",
    "```python\n",
    "list1 = [\"Fail\", \"Fail\", \"Hit\", \"Fail\", \"Direct hit\"]]\n",
    "```\n",
    "\n",
    "- A) `\"Hit\" in list1`\n",
    "- B) `\"Bull's eye\" in list1`\n",
    "- C) `list1.included(\"Hit\")`\n",
    "- D) `list1 in \"Results\"`"
   ]
  },
  {
   "cell_type": "markdown",
   "metadata": {},
   "source": [
    "Correct Answer: "
   ]
  },
  {
   "cell_type": "markdown",
   "metadata": {},
   "source": [
    "#### Task 2\n",
    "\n",
    "2.) What is the short form of else if in Python?\n",
    "\n",
    "- A) `elseif`\n",
    "- B) `elsif`\n",
    "- C) `elif`\n",
    "- D) `elsf`"
   ]
  },
  {
   "cell_type": "code",
   "execution_count": null,
   "metadata": {
    "collapsed": true
   },
   "outputs": [],
   "source": [
    "Correct Answer: "
   ]
  },
  {
   "cell_type": "markdown",
   "metadata": {},
   "source": [
    "#### Task 3\n",
    "\n",
    "How often is the following `for` loop run?\n",
    "\n",
    "```python\n",
    "for i in range(1, 10):\n",
    "    print(i)\n",
    "```\n",
    "\n",
    "- A) 10 times\n",
    "- B) 11 times\n",
    "- C) 8 times\n",
    "- D) 9 times"
   ]
  },
  {
   "cell_type": "markdown",
   "metadata": {},
   "source": [
    "Correct Answer: "
   ]
  },
  {
   "cell_type": "markdown",
   "metadata": {},
   "source": [
    "#### Task 4\n",
    "\n",
    "What do you have to pay attention to when using a `while` - loop?\n",
    "\n",
    "- A) to put the loop condition in brackets\n",
    "- B) that the loop terminates, that is, it does not form an endless loop\n",
    "- C) to end the loop with the signal word `stop`, in particular there must always be a semicolon after `stop\n",
    "- D) to put the code block in curly brackets"
   ]
  },
  {
   "cell_type": "markdown",
   "metadata": {},
   "source": [
    "Correct Answer: "
   ]
  }
 ],
 "metadata": {
  "kernelspec": {
   "display_name": "Python 3",
   "language": "python",
   "name": "python3"
  },
  "language_info": {
   "codemirror_mode": {
    "name": "ipython",
    "version": 3
   },
   "file_extension": ".py",
   "mimetype": "text/x-python",
   "name": "python",
   "nbconvert_exporter": "python",
   "pygments_lexer": "ipython3",
   "version": "3.6.5"
  }
 },
 "nbformat": 4,
 "nbformat_minor": 2
}
