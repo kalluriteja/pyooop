{
 "cells": [
  {
   "cell_type": "markdown",
   "metadata": {},
   "source": [
    "# Control structures in Python"
   ]
  },
  {
   "cell_type": "markdown",
   "metadata": {},
   "source": [
    "### if\n",
    "So far we have only seen code that is executed from top to bottom. In an **If-Else structure**, certain sections of the code are only executed if certain conditions are met. We can use it to program decisions!\n",
    "\n",
    "Let's look at an example:"
   ]
  },
  {
   "cell_type": "code",
   "execution_count": 1,
   "metadata": {},
   "outputs": [
    {
     "name": "stdout",
     "output_type": "stream",
     "text": [
      "Number n is lower than 42\n",
      "Not indented!\n"
     ]
    }
   ],
   "source": [
    "n = 30\n",
    "\n",
    "if n < 42:\n",
    "    print(\"Number n is lower than 42\")\n",
    "\n",
    "print(\"Not indented!\")"
   ]
  },
  {
   "cell_type": "markdown",
   "metadata": {},
   "source": [
    "It is important that the code below the condition is indented! "
   ]
  },
  {
   "cell_type": "markdown",
   "metadata": {},
   "source": [
    "### else\n",
    "This if structure can be extended by a **else**, so that a certain code is executed even if the condition does not apply. If the if condition is fulfilled, the else-block is of course no longer executed."
   ]
  },
  {
   "cell_type": "code",
   "execution_count": 2,
   "metadata": {},
   "outputs": [
    {
     "name": "stdout",
     "output_type": "stream",
     "text": [
      "not the case\n"
     ]
    }
   ],
   "source": [
    "m = 10\n",
    "\n",
    "if m < 5:\n",
    "    print(\"m is lower than 5\")\n",
    "else:\n",
    "    print(\"not the case\")"
   ]
  },
  {
   "cell_type": "markdown",
   "metadata": {},
   "source": [
    "### Why don't you play around with what you've learned a little bit?\n",
    "- Write your own if-else condition! :-)"
   ]
  },
  {
   "cell_type": "code",
   "execution_count": null,
   "metadata": {
    "collapsed": true
   },
   "outputs": [],
   "source": [
    "\n",
    "\n"
   ]
  }
 ],
 "metadata": {
  "kernelspec": {
   "display_name": "Python 3",
   "language": "python",
   "name": "python3"
  },
  "language_info": {
   "codemirror_mode": {
    "name": "ipython",
    "version": 3
   },
   "file_extension": ".py",
   "mimetype": "text/x-python",
   "name": "python",
   "nbconvert_exporter": "python",
   "pygments_lexer": "ipython3",
   "version": "3.6.5"
  }
 },
 "nbformat": 4,
 "nbformat_minor": 2
}
