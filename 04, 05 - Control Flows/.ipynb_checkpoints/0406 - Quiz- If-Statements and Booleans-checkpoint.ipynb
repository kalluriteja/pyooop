{
 "cells": [
  {
   "cell_type": "markdown",
   "metadata": {},
   "source": [
    "## Quiz: If-Statements & Booleans"
   ]
  },
  {
   "cell_type": "markdown",
   "metadata": {},
   "source": [
    "#### Question 1: Is \"Hello World\" printed?\n",
    "\n",
    "Source code:\n",
    "```python\n",
    "if True and False:\n",
    "    print(\"Hello World\")\n",
    "```\n",
    "\n",
    "- A: Yes\n",
    "- B: No"
   ]
  },
  {
   "cell_type": "markdown",
   "metadata": {},
   "source": [
    "Correct Answer: "
   ]
  },
  {
   "cell_type": "markdown",
   "metadata": {},
   "source": [
    "#### Question 2: Is \"Hello World\" printed?\n",
    "\n",
    "Source code:\n",
    "```python\n",
    "if True or False:\n",
    "    print(\"Hello World\")\n",
    "```\n",
    "\n",
    "- A: Yes\n",
    "- B: No"
   ]
  },
  {
   "cell_type": "markdown",
   "metadata": {},
   "source": [
    "Correct Answer: "
   ]
  },
  {
   "cell_type": "markdown",
   "metadata": {},
   "source": [
    "#### Question 3\n",
    "\n",
    "In order to sign contracts, a person must usually be of legal age (18 years old). How would you formulate this condition with Python? \n",
    "\n",
    "Note: Note the difference between `<` and `<=` or `>` and `>=`! Also check the incident (person is 18 years old) manually in the head!\n",
    "\n",
    "- A: `age > 18`\n",
    "- B: `age < 18`\n",
    "- C: `age >= 18`\n",
    "- D: `age <= 18`"
   ]
  },
  {
   "cell_type": "markdown",
   "metadata": {},
   "source": [
    "Correct Answer: "
   ]
  },
  {
   "cell_type": "code",
   "execution_count": null,
   "metadata": {},
   "outputs": [],
   "source": []
  }
 ],
 "metadata": {
  "kernelspec": {
   "display_name": "Python 3",
   "language": "python",
   "name": "python3"
  },
  "language_info": {
   "codemirror_mode": {
    "name": "ipython",
    "version": 3
   },
   "file_extension": ".py",
   "mimetype": "text/x-python",
   "name": "python",
   "nbconvert_exporter": "python",
   "pygments_lexer": "ipython3",
   "version": "3.6.5"
  }
 },
 "nbformat": 4,
 "nbformat_minor": 2
}
