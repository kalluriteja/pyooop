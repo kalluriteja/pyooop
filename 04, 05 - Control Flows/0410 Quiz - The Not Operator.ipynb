{
 "cells": [
  {
   "cell_type": "markdown",
   "metadata": {},
   "source": [
    "## Quiz: The not - Operator"
   ]
  },
  {
   "cell_type": "markdown",
   "metadata": {},
   "source": [
    "#### Question 1: Is \"Hello World\" printed?\n",
    "\n",
    "Source Code:\n",
    "\n",
    "```python\n",
    "age = 25\n",
    "if not age > 30:\n",
    "    print(\"Hello World\")\n",
    "```\n",
    "\n",
    "- A) Yes\n",
    "- B) No"
   ]
  },
  {
   "cell_type": "markdown",
   "metadata": {},
   "source": [
    "Correct Answer"
   ]
  },
  {
   "cell_type": "markdown",
   "metadata": {},
   "source": [
    "#### Question 2\n",
    "\n",
    "When is `\"Hello World\"` printed (`a`, `b` are `True` / `False` - Values.)?\n",
    "\n",
    "Play through the given answer options in the head and consider whether the whole expression is fulfilled or not. \n",
    "\n",
    "Source Code:\n",
    "\n",
    "```python\n",
    "if a and (not b):\n",
    "    print(\"Hello World\")\n",
    "```\n",
    "\n",
    "- A) `a = True, b = True`\n",
    "- B) `a = True, b = False`\n",
    "- C) `a = False, b = False`\n",
    "- D) `a = False, b = True`"
   ]
  },
  {
   "cell_type": "markdown",
   "metadata": {},
   "source": [
    "Correct Answer: "
   ]
  },
  {
   "cell_type": "markdown",
   "metadata": {},
   "source": [
    "#### Question 3\n",
    "\n",
    "A small `and` or `or` can make a big difference. For example, the following printout checks whether a call has been made during office hours (9-15:59):\n",
    "\n",
    "```python\n",
    "hour >= 9 and hour < 16\n",
    "```\n",
    "Now there's been a mistake. The following expression is inadvertently in our program:\n",
    "\n",
    "```python\n",
    "hour >= 9 or hour < 16\n",
    "```\n",
    "\n",
    "For which values is the 2nd expression fulfilled?\n",
    "\n",
    "- A) All times from 9 o'clock during the day (9-24 o'clock) \n",
    "- B) All times (0-24 h)\n",
    "- C) All times until 4 pm during the day (0-16 pm) \n",
    "- D) There is no difference (9-16 o'clock)"
   ]
  },
  {
   "cell_type": "markdown",
   "metadata": {
    "collapsed": true
   },
   "source": [
    "Correct Answer:"
   ]
  },
  {
   "cell_type": "code",
   "execution_count": null,
   "metadata": {},
   "outputs": [],
   "source": []
  }
 ],
 "metadata": {
  "kernelspec": {
   "display_name": "Python 3",
   "language": "python",
   "name": "python3"
  },
  "language_info": {
   "codemirror_mode": {
    "name": "ipython",
    "version": 3
   },
   "file_extension": ".py",
   "mimetype": "text/x-python",
   "name": "python",
   "nbconvert_exporter": "python",
   "pygments_lexer": "ipython3",
   "version": "3.7.3"
  }
 },
 "nbformat": 4,
 "nbformat_minor": 2
}
